{
 "cells": [
  {
   "cell_type": "markdown",
   "id": "f5090570",
   "metadata": {},
   "source": [
    "### Проект 1. Воронка\n",
    "\n",
    "Для того чтобы отслеживать, как выглядит путь клиента от знакомства с продуктом до его получения, и какие в нем есть проблемные места, аналитики часто строят воронки. Этот инструмент позволяет понять, сколько клиентов \"теряется\" на каждом из этапов процесса и сколько в итоге совершает целевое действие.\n",
    "\n",
    "Перед вами схема данных проекта Тинькофф квест. Постройте воронку, которая показывала бы в динамике по неделям и месяцам, сколько клиентов посещает наш сайт, и какая доля из них регистрируется на нем \\ подает заявку на игру \\ по факту приходит на нее. Количество клиентов и конверсии необходимо изобразить на одном графике.\n",
    "\n",
    "Какие выводы можно сделать исходя из построенной воронки, какие точки роста продукта вы видите?\n",
    "Задание нужно выполнить в JupyterNotebook \\ Google Colab.\n",
    "\n",
    "Этапы:\n",
    "- Подключиться к базе данных с помощью Python в JupyterNotebook \\ Google Colab\n",
    "- Собрать датасет с необходимыми полями\n",
    "- Посчитать конверсии и сделать визуализацию на Python\n",
    "- Прикрепить файл с выполненным заданием"
   ]
  },
  {
   "cell_type": "code",
   "execution_count": 3,
   "id": "a9336009",
   "metadata": {},
   "outputs": [],
   "source": [
    "import datetime as dt\n",
    "import plotly\n",
    "import plotly.graph_objs as go\n",
    "import plotly.express as px\n",
    "from plotly.subplots import make_subplots\n",
    "import plotly.graph_objects as go\n",
    "import matplotlib.pyplot as plt\n",
    "import numpy as np\n",
    "import pandas as pd\n",
    "import psycopg2"
   ]
  },
  {
   "cell_type": "code",
   "execution_count": 3,
   "id": "640bb8c7",
   "metadata": {},
   "outputs": [
    {
     "name": "stdout",
     "output_type": "stream",
     "text": [
      "        year      month  visitors  accounts  apps  gamers\n",
      "0 2022-01-01 2022-09-01       778       186    58       2\n",
      "1 2022-01-01 2022-10-01       843       219    98      21\n",
      "2 2022-01-01 2022-11-01       786       195    96      43\n",
      "3 2022-01-01 2022-12-01       805       200    88      47\n",
      "4 2023-01-01 2023-01-01       852       215   118      63\n",
      "         year       week  visitors  accounts  apps  gamers\n",
      "19 2023-01-01 2023-01-02       201        55    23      16\n",
      "20 2023-01-01 2023-01-09       205        54    23       8\n",
      "21 2023-01-01 2023-01-16       181        42    40      15\n",
      "22 2023-01-01 2023-01-23       182        40    32      17\n",
      "23 2023-01-01 2023-01-30        81        26    11       9\n"
     ]
    }
   ],
   "source": [
    "# выгрузка данных\n",
    "connection = psycopg2.connect(database=\"postgres\", \n",
    "                        user=\"student\", \n",
    "                        password=\"JvLda93aA\", \n",
    "                        host=\"158.160.52.106\", \n",
    "                        port=\"5432\")\n",
    "cursor = connection.cursor()\n",
    "\n",
    "data_by_month = pd.DataFrame(pd.read_sql(\n",
    "    \"SELECT DATE_TRUNC('year', c.Visit_dttm) AS year, DATE_TRUNC('month', c.Visit_dttm) AS month, \"\n",
    "    \"COALESCE(COUNT(DISTINCT c.Client_rk), 0) AS visitors, COALESCE(COUNT(DISTINCT a.Account_rk), 0) AS accounts, \"\n",
    "    \"COALESCE(COUNT(DISTINCT app.Game_rk), 0) AS apps, COALESCE(COUNT(DISTINCT g.Game_rk), 0) AS gamers \"\n",
    "    \"FROM msu_analytics.client c \"\n",
    "    \"LEFT JOIN msu_analytics.account a ON DATE(c.Visit_dttm) = Date(a.Registration_dttm) \"\n",
    "    \"LEFT JOIN msu_analytics.Application app ON DATE(c.Visit_dttm) = DATE(app.Application_dttm) \"\n",
    "    \"LEFT JOIN (SELECT * FROM msu_analytics.game g WHERE g.Game_flg = 1 ORDER BY 1) g \"\n",
    "    \"ON DATE(c.Visit_dttm) = DATE(g.Game_dttm) \"\n",
    "    \"GROUP BY 1, 2 \"\n",
    "    \"ORDER BY 1, 2\",\n",
    "    connnection\n",
    "))\n",
    "\n",
    "data_by_week = pd.DataFrame(pd.read_sql(\n",
    "    \"SELECT DATE_TRUNC('year', c.Visit_dttm) AS year, DATE_TRUNC('week', c.Visit_dttm) AS week, \"\n",
    "    \"COALESCE(COUNT(DISTINCT c.Client_rk), 0) AS visitors, COALESCE(COUNT(DISTINCT a.Account_rk), 0) AS accounts, \"\n",
    "    \"COALESCE(COUNT(DISTINCT app.Game_rk), 0) AS apps, COALESCE(COUNT(DISTINCT g.Game_rk), 0) AS gamers \"\n",
    "    \"FROM msu_analytics.client c \"\n",
    "    \"LEFT JOIN msu_analytics.account a ON DATE(c.Visit_dttm) = Date(a.Registration_dttm) \"\n",
    "    \"LEFT JOIN msu_analytics.Application app ON DATE(c.Visit_dttm) = DATE(app.Application_dttm) \"\n",
    "    \"LEFT JOIN (SELECT * FROM msu_analytics.game g WHERE g.Game_flg = 1 ORDER BY 1) g \"\n",
    "    \"ON DATE(c.Visit_dttm) = DATE(g.Game_dttm) \"\n",
    "    \"GROUP BY 1, 2 \"\n",
    "    \"ORDER BY 1, 2\",\n",
    "    connection\n",
    "))\n",
    "\n",
    "data_by_month.head()\n",
    "data_by_week.tail()"
   ]
  },
  {
   "cell_type": "markdown",
   "id": "63bea15a",
   "metadata": {},
   "source": [
    "Поля в таблицах:\n",
    "- visitors = число посетителей сайта\n",
    "- accounts = число зарегистрировавшихся на сайте\n",
    "- applications = число заявок на игру\n",
    "- gamers = итоговое число людей, пришедших на игру"
   ]
  },
  {
   "cell_type": "code",
   "execution_count": null,
   "id": "fe3959a9",
   "metadata": {},
   "outputs": [],
   "source": [
    "#группируем поля датафрейма по месяцам и считаем конверсии для ступеней воронки\n",
    "by_month = data_by_month.copy()\n",
    "by_month['vis-acc'] = by_month['accounts']/by_month['visitors']\n",
    "by_month['acc-app'] = by_month['apps']/by_month['accounts']\n",
    "by_month['app-gam'] = by_month['gamers']/by_month['apps']\n",
    "by_month = by_month.fillna(0) # замена Nan от деления на 0 на нули\n",
    "\n",
    "\n",
    "#группируем поля по неделям и считаем конверсии для ступеней воронки\n",
    "by_week = data_by_week.copy()\n",
    "by_week['vis-acc'] = by_week['accounts']/by_week['visitors']\n",
    "by_week['acc-app'] = by_week['apps']/by_week['accounts']\n",
    "by_week['app-gam'] = by_week['gamers']/by_week['apps']\n",
    "by_week = by_week.fillna(0)"
   ]
  },
  {
   "cell_type": "code",
   "execution_count": 5,
   "id": "d96cb2a9",
   "metadata": {},
   "outputs": [
    {
     "name": "stdout",
     "output_type": "stream",
     "text": [
      "         visitors   accounts       apps     gamers    vis-acc    acc-app  \\\n",
      "count   24.000000  24.000000  24.000000  24.000000  24.000000  24.000000   \n",
      "mean   170.666667  42.666667  21.083333   7.458333   0.248811   0.496624   \n",
      "std     40.369669  11.540728   9.016491   5.274872   0.030550   0.197513   \n",
      "min     34.000000   7.000000   0.000000   0.000000   0.198198   0.000000   \n",
      "25%    170.250000  39.500000  18.000000   2.500000   0.233138   0.397321   \n",
      "50%    181.000000  44.500000  22.000000   7.500000   0.250026   0.490090   \n",
      "75%    192.750000  49.000000  25.500000  10.250000   0.263888   0.586957   \n",
      "max    205.000000  59.000000  40.000000  17.000000   0.320988   0.952381   \n",
      "\n",
      "         app-gam  \n",
      "count  24.000000  \n",
      "mean    0.339848  \n",
      "std     0.244386  \n",
      "min     0.000000  \n",
      "25%     0.141414  \n",
      "50%     0.326667  \n",
      "75%     0.527549  \n",
      "max     0.818182  \n",
      "         visitors    accounts        apps     gamers   vis-acc   acc-app  \\\n",
      "count    6.000000    6.000000    6.000000   6.000000  6.000000  6.000000   \n",
      "mean   682.666667  170.666667   76.833333  29.833333  0.254833  0.428966   \n",
      "std    320.149757   80.156514   41.087305  25.063253  0.014582  0.091338   \n",
      "min     32.000000    9.000000    3.000000   2.000000  0.239075  0.311828   \n",
      "25%    780.000000  188.250000   65.500000   7.500000  0.248181  0.360000   \n",
      "50%    795.500000  197.500000   92.000000  32.000000  0.250397  0.443744   \n",
      "75%    833.500000  211.250000   97.500000  46.000000  0.257927  0.481103   \n",
      "max    852.000000  219.000000  118.000000  63.000000  0.281250  0.548837   \n",
      "\n",
      "        app-gam  \n",
      "count  6.000000  \n",
      "mean   0.460779  \n",
      "std    0.329889  \n",
      "min    0.034483  \n",
      "25%    0.272693  \n",
      "50%    0.490907  \n",
      "75%    0.534043  \n",
      "max    1.000000  \n"
     ]
    }
   ],
   "source": [
    "by_week.describe()\n",
    "by_month.describe()"
   ]
  },
  {
   "cell_type": "code",
   "execution_count": 21,
   "id": "af62c25d",
   "metadata": {},
   "outputs": [
    {
     "data": {
      "image/png": "[encoded data removed]",
      "text/plain": [
       "<Figure size 432x288 with 1 Axes>"
      ]
     },
     "metadata": {},
     "output_type": "display_data"
    }
   ],
   "source": [
    "plt.plot(by_month['month'],by_month['visitors'], label=\"посетили сайт\")\n",
    "plt.plot(by_month['month'],by_month['accounts'], label=\"зарегистрировались\")\n",
    "plt.plot(by_month['month'],by_month['apps'], label=\"подали заявки\")\n",
    "plt.plot(by_month['month'],by_month['gamers'], label=\"пришли играть\")\n",
    "plt.xlabel(r'$Время$')\n",
    "plt.ylabel(r'$Пользователей$')\n",
    "plt.title(\"Конверсия пользователей по месяцам\")\n",
    "plt.legend(loc='best', fontsize=10)\n",
    "\n",
    "plt.grid(True)\n",
    "plt.style.use('ggplot')\n",
    "plt.show()"
   ]
  },
  {
   "cell_type": "code",
   "execution_count": 23,
   "id": "fb82ed0c",
   "metadata": {},
   "outputs": [
    {
     "data": {
      "image/png": "[encoded data removed]",
      "text/plain": [
       "<Figure size 432x288 with 1 Axes>"
      ]
     },
     "metadata": {},
     "output_type": "display_data"
    }
   ],
   "source": [
    "plt.plot(by_week['week'],by_week['visitors'], label=\"посетили сайт\")\n",
    "plt.plot(by_week['week'],by_week['accounts'], label=\"зарегистрировались\")\n",
    "plt.plot(by_week['week'],by_week['apps'], label=\"подали заявки\")\n",
    "plt.plot(by_week['week'],by_week['gamers'], label=\"пришли играть\")\n",
    "plt.xlabel(r'$Время$')\n",
    "plt.ylabel(r'$Пользователей$')\n",
    "plt.title(\"Конверсия пользователей по неделям\")\n",
    "plt.legend(loc='best', fontsize=10)\n",
    "\n",
    "plt.grid(True)\n",
    "plt.style.use('ggplot')\n",
    "plt.show()"
   ]
  },
  {
   "cell_type": "code",
   "execution_count": 96,
   "id": "18b19951",
   "metadata": {},
   "outputs": [
    {
     "data": {
      "application/vnd.plotly.v1+json": {
       "config": {
        "plotlyServerURL": "https://plot.ly"
       },
       "data": [
        {
         "mode": "lines+markers",
         "name": "посетили сайт",
         "type": "scatter",
         "x": [
          "2022-09-01T00:00:00",
          "2022-10-01T00:00:00",
          "2022-11-01T00:00:00",
          "2022-12-01T00:00:00",
          "2023-01-01T00:00:00",
          "2023-02-01T00:00:00"
         ],
         "xaxis": "x",
         "y": [
          778,
          843,
          786,
          805,
          852,
          32
         ],
         "yaxis": "y"
        },
        {
         "mode": "lines+markers",
         "name": "зарегистрировались",
         "type": "scatter",
         "x": [
          "2022-09-01T00:00:00",
          "2022-10-01T00:00:00",
          "2022-11-01T00:00:00",
          "2022-12-01T00:00:00",
          "2023-01-01T00:00:00",
          "2023-02-01T00:00:00"
         ],
         "xaxis": "x",
         "y": [
          186,
          219,
          195,
          200,
          215,
          9
         ],
         "yaxis": "y"
        },
        {
         "mode": "lines+markers",
         "name": "подали заявки",
         "type": "scatter",
         "x": [
          "2022-09-01T00:00:00",
          "2022-10-01T00:00:00",
          "2022-11-01T00:00:00",
          "2022-12-01T00:00:00",
          "2023-01-01T00:00:00",
          "2023-02-01T00:00:00"
         ],
         "xaxis": "x",
         "y": [
          58,
          98,
          96,
          88,
          118,
          3
         ],
         "yaxis": "y"
        },
        {
         "mode": "lines+markers",
         "name": "пришли на игру",
         "type": "scatter",
         "x": [
          "2022-09-01T00:00:00",
          "2022-10-01T00:00:00",
          "2022-11-01T00:00:00",
          "2022-12-01T00:00:00",
          "2023-01-01T00:00:00",
          "2023-02-01T00:00:00"
         ],
         "xaxis": "x",
         "y": [
          2,
          21,
          43,
          47,
          63,
          3
         ],
         "yaxis": "y"
        },
        {
         "mode": "lines+markers",
         "name": "conv_1",
         "type": "scatter",
         "x": [
          "2022-09-01T00:00:00",
          "2022-10-01T00:00:00",
          "2022-11-01T00:00:00",
          "2022-12-01T00:00:00",
          "2023-01-01T00:00:00",
          "2023-02-01T00:00:00"
         ],
         "xaxis": "x",
         "y": [
          0.1981981981981982,
          0.20652173913043478,
          0.25149700598802394,
          0.2541436464088398,
          0.28717948717948716,
          0.28921568627450983,
          0.24210526315789474,
          0.24561403508771928,
          0.25396825396825395,
          0.233502538071066,
          0.24855491329479767,
          0.2011173184357542,
          0.28888888888888886,
          0.2542372881355932,
          0.2619047619047619,
          0.2653061224489796,
          0.23958333333333334,
          0.23417721518987342,
          0.20588235294117646,
          0.2736318407960199,
          0.2634146341463415,
          0.23204419889502761,
          0.21978021978021978,
          0.32098765432098764
         ],
         "yaxis": "y2"
        },
        {
         "mode": "lines+markers",
         "name": "conv_2",
         "type": "scatter",
         "x": [
          "2022-09-01T00:00:00",
          "2022-10-01T00:00:00",
          "2022-11-01T00:00:00",
          "2022-12-01T00:00:00",
          "2023-01-01T00:00:00",
          "2023-02-01T00:00:00"
         ],
         "xaxis": "x",
         "y": [
          0,
          0.18421052631578946,
          0.40476190476190477,
          0.5217391304347826,
          0.32142857142857145,
          0.559322033898305,
          0.5869565217391305,
          0.5714285714285714,
          0.375,
          0.5434782608695652,
          0.6976744186046512,
          0.6666666666666666,
          0.36538461538461536,
          0.4666666666666667,
          0.45454545454545453,
          0.36538461538461536,
          0.5869565217391305,
          0.5135135135135135,
          0.7142857142857143,
          0.41818181818181815,
          0.42592592592592593,
          0.9523809523809523,
          0.8,
          0.4230769230769231
         ],
         "yaxis": "y2"
        },
        {
         "mode": "lines+markers",
         "name": "conv_3",
         "type": "scatter",
         "x": [
          "2022-09-01T00:00:00",
          "2022-10-01T00:00:00",
          "2022-11-01T00:00:00",
          "2022-12-01T00:00:00",
          "2023-01-01T00:00:00",
          "2023-02-01T00:00:00"
         ],
         "xaxis": "x",
         "y": [
          0,
          0,
          0.058823529411764705,
          0.041666666666666664,
          0.05555555555555555,
          0.15151515151515152,
          0.1111111111111111,
          0.20833333333333334,
          0.3888888888888889,
          0.32,
          0.3333333333333333,
          0.2916666666666667,
          0.7368421052631579,
          0.47619047619047616,
          0.65,
          0.5789473684210527,
          0.25925925925925924,
          0.5263157894736842,
          0.2,
          0.6956521739130435,
          0.34782608695652173,
          0.375,
          0.53125,
          0.8181818181818182
         ],
         "yaxis": "y2"
        }
       ],
       "layout": {
        "legend": {
         "orientation": "h",
         "x": 0.5,
         "xanchor": "center"
        },
        "margin": {
         "b": 5,
         "l": 5,
         "r": 5,
         "t": 35
        },
        "template": {
         "data": {
          "bar": [
           {
            "error_x": {
             "color": "#2a3f5f"
            },
            "error_y": {
             "color": "#2a3f5f"
            },
            "marker": {
             "line": {
              "color": "#E5ECF6",
              "width": 0.5
             },
             "pattern": {
              "fillmode": "overlay",
              "size": 10,
              "solidity": 0.2
             }
            },
            "type": "bar"
           }
          ],
          "barpolar": [
           {
            "marker": {
             "line": {
              "color": "#E5ECF6",
              "width": 0.5
             },
             "pattern": {
              "fillmode": "overlay",
              "size": 10,
              "solidity": 0.2
             }
            },
            "type": "barpolar"
           }
          ],
          "carpet": [
           {
            "aaxis": {
             "endlinecolor": "#2a3f5f",
             "gridcolor": "white",
             "linecolor": "white",
             "minorgridcolor": "white",
             "startlinecolor": "#2a3f5f"
            },
            "baxis": {
             "endlinecolor": "#2a3f5f",
             "gridcolor": "white",
             "linecolor": "white",
             "minorgridcolor": "white",
             "startlinecolor": "#2a3f5f"
            },
            "type": "carpet"
           }
          ],
          "choropleth": [
           {
            "colorbar": {
             "outlinewidth": 0,
             "ticks": ""
            },
            "type": "choropleth"
           }
          ],
          "contour": [
           {
            "colorbar": {
             "outlinewidth": 0,
             "ticks": ""
            },
            "colorscale": [
             [
              0,
              "#0d0887"
             ],
             [
              0.1111111111111111,
              "#46039f"
             ],
             [
              0.2222222222222222,
              "#7201a8"
             ],
             [
              0.3333333333333333,
              "#9c179e"
             ],
             [
              0.4444444444444444,
              "#bd3786"
             ],
             [
              0.5555555555555556,
              "#d8576b"
             ],
             [
              0.6666666666666666,
              "#ed7953"
             ],
             [
              0.7777777777777778,
              "#fb9f3a"
             ],
             [
              0.8888888888888888,
              "#fdca26"
             ],
             [
              1,
              "#f0f921"
             ]
            ],
            "type": "contour"
           }
          ],
          "contourcarpet": [
           {
            "colorbar": {
             "outlinewidth": 0,
             "ticks": ""
            },
            "type": "contourcarpet"
           }
          ],
          "heatmap": [
           {
            "colorbar": {
             "outlinewidth": 0,
             "ticks": ""
            },
            "colorscale": [
             [
              0,
              "#0d0887"
             ],
             [
              0.1111111111111111,
              "#46039f"
             ],
             [
              0.2222222222222222,
              "#7201a8"
             ],
             [
              0.3333333333333333,
              "#9c179e"
             ],
             [
              0.4444444444444444,
              "#bd3786"
             ],
             [
              0.5555555555555556,
              "#d8576b"
             ],
             [
              0.6666666666666666,
              "#ed7953"
             ],
             [
              0.7777777777777778,
              "#fb9f3a"
             ],
             [
              0.8888888888888888,
              "#fdca26"
             ],
             [
              1,
              "#f0f921"
             ]
            ],
            "type": "heatmap"
           }
          ],
          "heatmapgl": [
           {
            "colorbar": {
             "outlinewidth": 0,
             "ticks": ""
            },
            "colorscale": [
             [
              0,
              "#0d0887"
             ],
             [
              0.1111111111111111,
              "#46039f"
             ],
             [
              0.2222222222222222,
              "#7201a8"
             ],
             [
              0.3333333333333333,
              "#9c179e"
             ],
             [
              0.4444444444444444,
              "#bd3786"
             ],
             [
              0.5555555555555556,
              "#d8576b"
             ],
             [
              0.6666666666666666,
              "#ed7953"
             ],
             [
              0.7777777777777778,
              "#fb9f3a"
             ],
             [
              0.8888888888888888,
              "#fdca26"
             ],
             [
              1,
              "#f0f921"
             ]
            ],
            "type": "heatmapgl"
           }
          ],
          "histogram": [
           {
            "marker": {
             "pattern": {
              "fillmode": "overlay",
              "size": 10,
              "solidity": 0.2
             }
            },
            "type": "histogram"
           }
          ],
          "histogram2d": [
           {
            "colorbar": {
             "outlinewidth": 0,
             "ticks": ""
            },
            "colorscale": [
             [
              0,
              "#0d0887"
             ],
             [
              0.1111111111111111,
              "#46039f"
             ],
             [
              0.2222222222222222,
              "#7201a8"
             ],
             [
              0.3333333333333333,
              "#9c179e"
             ],
             [
              0.4444444444444444,
              "#bd3786"
             ],
             [
              0.5555555555555556,
              "#d8576b"
             ],
             [
              0.6666666666666666,
              "#ed7953"
             ],
             [
              0.7777777777777778,
              "#fb9f3a"
             ],
             [
              0.8888888888888888,
              "#fdca26"
             ],
             [
              1,
              "#f0f921"
             ]
            ],
            "type": "histogram2d"
           }
          ],
          "histogram2dcontour": [
           {
            "colorbar": {
             "outlinewidth": 0,
             "ticks": ""
            },
            "colorscale": [
             [
              0,
              "#0d0887"
             ],
             [
              0.1111111111111111,
              "#46039f"
             ],
             [
              0.2222222222222222,
              "#7201a8"
             ],
             [
              0.3333333333333333,
              "#9c179e"
             ],
             [
              0.4444444444444444,
              "#bd3786"
             ],
             [
              0.5555555555555556,
              "#d8576b"
             ],
             [
              0.6666666666666666,
              "#ed7953"
             ],
             [
              0.7777777777777778,
              "#fb9f3a"
             ],
             [
              0.8888888888888888,
              "#fdca26"
             ],
             [
              1,
              "#f0f921"
             ]
            ],
            "type": "histogram2dcontour"
           }
          ],
          "mesh3d": [
           {
            "colorbar": {
             "outlinewidth": 0,
             "ticks": ""
            },
            "type": "mesh3d"
           }
          ],
          "parcoords": [
           {
            "line": {
             "colorbar": {
              "outlinewidth": 0,
              "ticks": ""
             }
            },
            "type": "parcoords"
           }
          ],
          "pie": [
           {
            "automargin": true,
            "type": "pie"
           }
          ],
          "scatter": [
           {
            "fillpattern": {
             "fillmode": "overlay",
             "size": 10,
             "solidity": 0.2
            },
            "type": "scatter"
           }
          ],
          "scatter3d": [
           {
            "line": {
             "colorbar": {
              "outlinewidth": 0,
              "ticks": ""
             }
            },
            "marker": {
             "colorbar": {
              "outlinewidth": 0,
              "ticks": ""
             }
            },
            "type": "scatter3d"
           }
          ],
          "scattercarpet": [
           {
            "marker": {
             "colorbar": {
              "outlinewidth": 0,
              "ticks": ""
             }
            },
            "type": "scattercarpet"
           }
          ],
          "scattergeo": [
           {
            "marker": {
             "colorbar": {
              "outlinewidth": 0,
              "ticks": ""
             }
            },
            "type": "scattergeo"
           }
          ],
          "scattergl": [
           {
            "marker": {
             "colorbar": {
              "outlinewidth": 0,
              "ticks": ""
             }
            },
            "type": "scattergl"
           }
          ],
          "scattermapbox": [
           {
            "marker": {
             "colorbar": {
              "outlinewidth": 0,
              "ticks": ""
             }
            },
            "type": "scattermapbox"
           }
          ],
          "scatterpolar": [
           {
            "marker": {
             "colorbar": {
              "outlinewidth": 0,
              "ticks": ""
             }
            },
            "type": "scatterpolar"
           }
          ],
          "scatterpolargl": [
           {
            "marker": {
             "colorbar": {
              "outlinewidth": 0,
              "ticks": ""
             }
            },
            "type": "scatterpolargl"
           }
          ],
          "scatterternary": [
           {
            "marker": {
             "colorbar": {
              "outlinewidth": 0,
              "ticks": ""
             }
            },
            "type": "scatterternary"
           }
          ],
          "surface": [
           {
            "colorbar": {
             "outlinewidth": 0,
             "ticks": ""
            },
            "colorscale": [
             [
              0,
              "#0d0887"
             ],
             [
              0.1111111111111111,
              "#46039f"
             ],
             [
              0.2222222222222222,
              "#7201a8"
             ],
             [
              0.3333333333333333,
              "#9c179e"
             ],
             [
              0.4444444444444444,
              "#bd3786"
             ],
             [
              0.5555555555555556,
              "#d8576b"
             ],
             [
              0.6666666666666666,
              "#ed7953"
             ],
             [
              0.7777777777777778,
              "#fb9f3a"
             ],
             [
              0.8888888888888888,
              "#fdca26"
             ],
             [
              1,
              "#f0f921"
             ]
            ],
            "type": "surface"
           }
          ],
          "table": [
           {
            "cells": {
             "fill": {
              "color": "#EBF0F8"
             },
             "line": {
              "color": "white"
             }
            },
            "header": {
             "fill": {
              "color": "#C8D4E3"
             },
             "line": {
              "color": "white"
             }
            },
            "type": "table"
           }
          ]
         },
         "layout": {
          "annotationdefaults": {
           "arrowcolor": "#2a3f5f",
           "arrowhead": 0,
           "arrowwidth": 1
          },
          "autotypenumbers": "strict",
          "coloraxis": {
           "colorbar": {
            "outlinewidth": 0,
            "ticks": ""
           }
          },
          "colorscale": {
           "diverging": [
            [
             0,
             "#8e0152"
            ],
            [
             0.1,
             "#c51b7d"
            ],
            [
             0.2,
             "#de77ae"
            ],
            [
             0.3,
             "#f1b6da"
            ],
            [
             0.4,
             "#fde0ef"
            ],
            [
             0.5,
             "#f7f7f7"
            ],
            [
             0.6,
             "#e6f5d0"
            ],
            [
             0.7,
             "#b8e186"
            ],
            [
             0.8,
             "#7fbc41"
            ],
            [
             0.9,
             "#4d9221"
            ],
            [
             1,
             "#276419"
            ]
           ],
           "sequential": [
            [
             0,
             "#0d0887"
            ],
            [
             0.1111111111111111,
             "#46039f"
            ],
            [
             0.2222222222222222,
             "#7201a8"
            ],
            [
             0.3333333333333333,
             "#9c179e"
            ],
            [
             0.4444444444444444,
             "#bd3786"
            ],
            [
             0.5555555555555556,
             "#d8576b"
            ],
            [
             0.6666666666666666,
             "#ed7953"
            ],
            [
             0.7777777777777778,
             "#fb9f3a"
            ],
            [
             0.8888888888888888,
             "#fdca26"
            ],
            [
             1,
             "#f0f921"
            ]
           ],
           "sequentialminus": [
            [
             0,
             "#0d0887"
            ],
            [
             0.1111111111111111,
             "#46039f"
            ],
            [
             0.2222222222222222,
             "#7201a8"
            ],
            [
             0.3333333333333333,
             "#9c179e"
            ],
            [
             0.4444444444444444,
             "#bd3786"
            ],
            [
             0.5555555555555556,
             "#d8576b"
            ],
            [
             0.6666666666666666,
             "#ed7953"
            ],
            [
             0.7777777777777778,
             "#fb9f3a"
            ],
            [
             0.8888888888888888,
             "#fdca26"
            ],
            [
             1,
             "#f0f921"
            ]
           ]
          },
          "colorway": [
           "#636efa",
           "#EF553B",
           "#00cc96",
           "#ab63fa",
           "#FFA15A",
           "#19d3f3",
           "#FF6692",
           "#B6E880",
           "#FF97FF",
           "#FECB52"
          ],
          "font": {
           "color": "#2a3f5f"
          },
          "geo": {
           "bgcolor": "white",
           "lakecolor": "white",
           "landcolor": "#E5ECF6",
           "showlakes": true,
           "showland": true,
           "subunitcolor": "white"
          },
          "hoverlabel": {
           "align": "left"
          },
          "hovermode": "closest",
          "mapbox": {
           "style": "light"
          },
          "paper_bgcolor": "white",
          "plot_bgcolor": "#E5ECF6",
          "polar": {
           "angularaxis": {
            "gridcolor": "white",
            "linecolor": "white",
            "ticks": ""
           },
           "bgcolor": "#E5ECF6",
           "radialaxis": {
            "gridcolor": "white",
            "linecolor": "white",
            "ticks": ""
           }
          },
          "scene": {
           "xaxis": {
            "backgroundcolor": "#E5ECF6",
            "gridcolor": "white",
            "gridwidth": 2,
            "linecolor": "white",
            "showbackground": true,
            "ticks": "",
            "zerolinecolor": "white"
           },
           "yaxis": {
            "backgroundcolor": "#E5ECF6",
            "gridcolor": "white",
            "gridwidth": 2,
            "linecolor": "white",
            "showbackground": true,
            "ticks": "",
            "zerolinecolor": "white"
           },
           "zaxis": {
            "backgroundcolor": "#E5ECF6",
            "gridcolor": "white",
            "gridwidth": 2,
            "linecolor": "white",
            "showbackground": true,
            "ticks": "",
            "zerolinecolor": "white"
           }
          },
          "shapedefaults": {
           "line": {
            "color": "#2a3f5f"
           }
          },
          "ternary": {
           "aaxis": {
            "gridcolor": "white",
            "linecolor": "white",
            "ticks": ""
           },
           "baxis": {
            "gridcolor": "white",
            "linecolor": "white",
            "ticks": ""
           },
           "bgcolor": "#E5ECF6",
           "caxis": {
            "gridcolor": "white",
            "linecolor": "white",
            "ticks": ""
           }
          },
          "title": {
           "x": 0.05
          },
          "xaxis": {
           "automargin": true,
           "gridcolor": "white",
           "linecolor": "white",
           "ticks": "",
           "title": {
            "standoff": 15
           },
           "zerolinecolor": "white",
           "zerolinewidth": 2
          },
          "yaxis": {
           "automargin": true,
           "gridcolor": "white",
           "linecolor": "white",
           "ticks": "",
           "title": {
            "standoff": 15
           },
           "zerolinecolor": "white",
           "zerolinewidth": 2
          }
         }
        },
        "title": {
         "text": "Конверсия пользователей по неделям"
        },
        "xaxis": {
         "anchor": "y",
         "domain": [
          0,
          0.94
         ],
         "title": {
          "text": "Время"
         }
        },
        "yaxis": {
         "anchor": "x",
         "domain": [
          0,
          1
         ],
         "title": {
          "text": "Число пользователей"
         }
        },
        "yaxis2": {
         "anchor": "x",
         "overlaying": "y",
         "side": "right"
        }
       }
      },
      "text/html": [
       "<div>                            <div id=\"cea65f56-ebdc-40fb-9f59-c03754cd9bab\" class=\"plotly-graph-div\" style=\"height:525px; width:100%;\"></div>            <script type=\"text/javascript\">                require([\"plotly\"], function(Plotly) {                    window.PLOTLYENV=window.PLOTLYENV || {};                                    if (document.getElementById(\"cea65f56-ebdc-40fb-9f59-c03754cd9bab\")) {                    Plotly.newPlot(                        \"cea65f56-ebdc-40fb-9f59-c03754cd9bab\",                        [{\"mode\":\"lines+markers\",\"name\":\"\\u043f\\u043e\\u0441\\u0435\\u0442\\u0438\\u043b\\u0438 \\u0441\\u0430\\u0439\\u0442\",\"x\":[\"2022-09-01T00:00:00\",\"2022-10-01T00:00:00\",\"2022-11-01T00:00:00\",\"2022-12-01T00:00:00\",\"2023-01-01T00:00:00\",\"2023-02-01T00:00:00\"],\"y\":[778,843,786,805,852,32],\"type\":\"scatter\",\"xaxis\":\"x\",\"yaxis\":\"y\"},{\"mode\":\"lines+markers\",\"name\":\"\\u0437\\u0430\\u0440\\u0435\\u0433\\u0438\\u0441\\u0442\\u0440\\u0438\\u0440\\u043e\\u0432\\u0430\\u043b\\u0438\\u0441\\u044c\",\"x\":[\"2022-09-01T00:00:00\",\"2022-10-01T00:00:00\",\"2022-11-01T00:00:00\",\"2022-12-01T00:00:00\",\"2023-01-01T00:00:00\",\"2023-02-01T00:00:00\"],\"y\":[186,219,195,200,215,9],\"type\":\"scatter\",\"xaxis\":\"x\",\"yaxis\":\"y\"},{\"mode\":\"lines+markers\",\"name\":\"\\u043f\\u043e\\u0434\\u0430\\u043b\\u0438 \\u0437\\u0430\\u044f\\u0432\\u043a\\u0438\",\"x\":[\"2022-09-01T00:00:00\",\"2022-10-01T00:00:00\",\"2022-11-01T00:00:00\",\"2022-12-01T00:00:00\",\"2023-01-01T00:00:00\",\"2023-02-01T00:00:00\"],\"y\":[58,98,96,88,118,3],\"type\":\"scatter\",\"xaxis\":\"x\",\"yaxis\":\"y\"},{\"mode\":\"lines+markers\",\"name\":\"\\u043f\\u0440\\u0438\\u0448\\u043b\\u0438 \\u043d\\u0430 \\u0438\\u0433\\u0440\\u0443\",\"x\":[\"2022-09-01T00:00:00\",\"2022-10-01T00:00:00\",\"2022-11-01T00:00:00\",\"2022-12-01T00:00:00\",\"2023-01-01T00:00:00\",\"2023-02-01T00:00:00\"],\"y\":[2,21,43,47,63,3],\"type\":\"scatter\",\"xaxis\":\"x\",\"yaxis\":\"y\"},{\"mode\":\"lines+markers\",\"name\":\"conv_1\",\"x\":[\"2022-09-01T00:00:00\",\"2022-10-01T00:00:00\",\"2022-11-01T00:00:00\",\"2022-12-01T00:00:00\",\"2023-01-01T00:00:00\",\"2023-02-01T00:00:00\"],\"y\":[0.1981981981981982,0.20652173913043478,0.25149700598802394,0.2541436464088398,0.28717948717948716,0.28921568627450983,0.24210526315789474,0.24561403508771928,0.25396825396825395,0.233502538071066,0.24855491329479767,0.2011173184357542,0.28888888888888886,0.2542372881355932,0.2619047619047619,0.2653061224489796,0.23958333333333334,0.23417721518987342,0.20588235294117646,0.2736318407960199,0.2634146341463415,0.23204419889502761,0.21978021978021978,0.32098765432098764],\"type\":\"scatter\",\"xaxis\":\"x\",\"yaxis\":\"y2\"},{\"mode\":\"lines+markers\",\"name\":\"conv_2\",\"x\":[\"2022-09-01T00:00:00\",\"2022-10-01T00:00:00\",\"2022-11-01T00:00:00\",\"2022-12-01T00:00:00\",\"2023-01-01T00:00:00\",\"2023-02-01T00:00:00\"],\"y\":[0.0,0.18421052631578946,0.40476190476190477,0.5217391304347826,0.32142857142857145,0.559322033898305,0.5869565217391305,0.5714285714285714,0.375,0.5434782608695652,0.6976744186046512,0.6666666666666666,0.36538461538461536,0.4666666666666667,0.45454545454545453,0.36538461538461536,0.5869565217391305,0.5135135135135135,0.7142857142857143,0.41818181818181815,0.42592592592592593,0.9523809523809523,0.8,0.4230769230769231],\"type\":\"scatter\",\"xaxis\":\"x\",\"yaxis\":\"y2\"},{\"mode\":\"lines+markers\",\"name\":\"conv_3\",\"x\":[\"2022-09-01T00:00:00\",\"2022-10-01T00:00:00\",\"2022-11-01T00:00:00\",\"2022-12-01T00:00:00\",\"2023-01-01T00:00:00\",\"2023-02-01T00:00:00\"],\"y\":[0.0,0.0,0.058823529411764705,0.041666666666666664,0.05555555555555555,0.15151515151515152,0.1111111111111111,0.20833333333333334,0.3888888888888889,0.32,0.3333333333333333,0.2916666666666667,0.7368421052631579,0.47619047619047616,0.65,0.5789473684210527,0.25925925925925924,0.5263157894736842,0.2,0.6956521739130435,0.34782608695652173,0.375,0.53125,0.8181818181818182],\"type\":\"scatter\",\"xaxis\":\"x\",\"yaxis\":\"y2\"}],                        {\"template\":{\"data\":{\"histogram2dcontour\":[{\"type\":\"histogram2dcontour\",\"colorbar\":{\"outlinewidth\":0,\"ticks\":\"\"},\"colorscale\":[[0.0,\"#0d0887\"],[0.1111111111111111,\"#46039f\"],[0.2222222222222222,\"#7201a8\"],[0.3333333333333333,\"#9c179e\"],[0.4444444444444444,\"#bd3786\"],[0.5555555555555556,\"#d8576b\"],[0.6666666666666666,\"#ed7953\"],[0.7777777777777778,\"#fb9f3a\"],[0.8888888888888888,\"#fdca26\"],[1.0,\"#f0f921\"]]}],\"choropleth\":[{\"type\":\"choropleth\",\"colorbar\":{\"outlinewidth\":0,\"ticks\":\"\"}}],\"histogram2d\":[{\"type\":\"histogram2d\",\"colorbar\":{\"outlinewidth\":0,\"ticks\":\"\"},\"colorscale\":[[0.0,\"#0d0887\"],[0.1111111111111111,\"#46039f\"],[0.2222222222222222,\"#7201a8\"],[0.3333333333333333,\"#9c179e\"],[0.4444444444444444,\"#bd3786\"],[0.5555555555555556,\"#d8576b\"],[0.6666666666666666,\"#ed7953\"],[0.7777777777777778,\"#fb9f3a\"],[0.8888888888888888,\"#fdca26\"],[1.0,\"#f0f921\"]]}],\"heatmap\":[{\"type\":\"heatmap\",\"colorbar\":{\"outlinewidth\":0,\"ticks\":\"\"},\"colorscale\":[[0.0,\"#0d0887\"],[0.1111111111111111,\"#46039f\"],[0.2222222222222222,\"#7201a8\"],[0.3333333333333333,\"#9c179e\"],[0.4444444444444444,\"#bd3786\"],[0.5555555555555556,\"#d8576b\"],[0.6666666666666666,\"#ed7953\"],[0.7777777777777778,\"#fb9f3a\"],[0.8888888888888888,\"#fdca26\"],[1.0,\"#f0f921\"]]}],\"heatmapgl\":[{\"type\":\"heatmapgl\",\"colorbar\":{\"outlinewidth\":0,\"ticks\":\"\"},\"colorscale\":[[0.0,\"#0d0887\"],[0.1111111111111111,\"#46039f\"],[0.2222222222222222,\"#7201a8\"],[0.3333333333333333,\"#9c179e\"],[0.4444444444444444,\"#bd3786\"],[0.5555555555555556,\"#d8576b\"],[0.6666666666666666,\"#ed7953\"],[0.7777777777777778,\"#fb9f3a\"],[0.8888888888888888,\"#fdca26\"],[1.0,\"#f0f921\"]]}],\"contourcarpet\":[{\"type\":\"contourcarpet\",\"colorbar\":{\"outlinewidth\":0,\"ticks\":\"\"}}],\"contour\":[{\"type\":\"contour\",\"colorbar\":{\"outlinewidth\":0,\"ticks\":\"\"},\"colorscale\":[[0.0,\"#0d0887\"],[0.1111111111111111,\"#46039f\"],[0.2222222222222222,\"#7201a8\"],[0.3333333333333333,\"#9c179e\"],[0.4444444444444444,\"#bd3786\"],[0.5555555555555556,\"#d8576b\"],[0.6666666666666666,\"#ed7953\"],[0.7777777777777778,\"#fb9f3a\"],[0.8888888888888888,\"#fdca26\"],[1.0,\"#f0f921\"]]}],\"surface\":[{\"type\":\"surface\",\"colorbar\":{\"outlinewidth\":0,\"ticks\":\"\"},\"colorscale\":[[0.0,\"#0d0887\"],[0.1111111111111111,\"#46039f\"],[0.2222222222222222,\"#7201a8\"],[0.3333333333333333,\"#9c179e\"],[0.4444444444444444,\"#bd3786\"],[0.5555555555555556,\"#d8576b\"],[0.6666666666666666,\"#ed7953\"],[0.7777777777777778,\"#fb9f3a\"],[0.8888888888888888,\"#fdca26\"],[1.0,\"#f0f921\"]]}],\"mesh3d\":[{\"type\":\"mesh3d\",\"colorbar\":{\"outlinewidth\":0,\"ticks\":\"\"}}],\"scatter\":[{\"fillpattern\":{\"fillmode\":\"overlay\",\"size\":10,\"solidity\":0.2},\"type\":\"scatter\"}],\"parcoords\":[{\"type\":\"parcoords\",\"line\":{\"colorbar\":{\"outlinewidth\":0,\"ticks\":\"\"}}}],\"scatterpolargl\":[{\"type\":\"scatterpolargl\",\"marker\":{\"colorbar\":{\"outlinewidth\":0,\"ticks\":\"\"}}}],\"bar\":[{\"error_x\":{\"color\":\"#2a3f5f\"},\"error_y\":{\"color\":\"#2a3f5f\"},\"marker\":{\"line\":{\"color\":\"#E5ECF6\",\"width\":0.5},\"pattern\":{\"fillmode\":\"overlay\",\"size\":10,\"solidity\":0.2}},\"type\":\"bar\"}],\"scattergeo\":[{\"type\":\"scattergeo\",\"marker\":{\"colorbar\":{\"outlinewidth\":0,\"ticks\":\"\"}}}],\"scatterpolar\":[{\"type\":\"scatterpolar\",\"marker\":{\"colorbar\":{\"outlinewidth\":0,\"ticks\":\"\"}}}],\"histogram\":[{\"marker\":{\"pattern\":{\"fillmode\":\"overlay\",\"size\":10,\"solidity\":0.2}},\"type\":\"histogram\"}],\"scattergl\":[{\"type\":\"scattergl\",\"marker\":{\"colorbar\":{\"outlinewidth\":0,\"ticks\":\"\"}}}],\"scatter3d\":[{\"type\":\"scatter3d\",\"line\":{\"colorbar\":{\"outlinewidth\":0,\"ticks\":\"\"}},\"marker\":{\"colorbar\":{\"outlinewidth\":0,\"ticks\":\"\"}}}],\"scattermapbox\":[{\"type\":\"scattermapbox\",\"marker\":{\"colorbar\":{\"outlinewidth\":0,\"ticks\":\"\"}}}],\"scatterternary\":[{\"type\":\"scatterternary\",\"marker\":{\"colorbar\":{\"outlinewidth\":0,\"ticks\":\"\"}}}],\"scattercarpet\":[{\"type\":\"scattercarpet\",\"marker\":{\"colorbar\":{\"outlinewidth\":0,\"ticks\":\"\"}}}],\"carpet\":[{\"aaxis\":{\"endlinecolor\":\"#2a3f5f\",\"gridcolor\":\"white\",\"linecolor\":\"white\",\"minorgridcolor\":\"white\",\"startlinecolor\":\"#2a3f5f\"},\"baxis\":{\"endlinecolor\":\"#2a3f5f\",\"gridcolor\":\"white\",\"linecolor\":\"white\",\"minorgridcolor\":\"white\",\"startlinecolor\":\"#2a3f5f\"},\"type\":\"carpet\"}],\"table\":[{\"cells\":{\"fill\":{\"color\":\"#EBF0F8\"},\"line\":{\"color\":\"white\"}},\"header\":{\"fill\":{\"color\":\"#C8D4E3\"},\"line\":{\"color\":\"white\"}},\"type\":\"table\"}],\"barpolar\":[{\"marker\":{\"line\":{\"color\":\"#E5ECF6\",\"width\":0.5},\"pattern\":{\"fillmode\":\"overlay\",\"size\":10,\"solidity\":0.2}},\"type\":\"barpolar\"}],\"pie\":[{\"automargin\":true,\"type\":\"pie\"}]},\"layout\":{\"autotypenumbers\":\"strict\",\"colorway\":[\"#636efa\",\"#EF553B\",\"#00cc96\",\"#ab63fa\",\"#FFA15A\",\"#19d3f3\",\"#FF6692\",\"#B6E880\",\"#FF97FF\",\"#FECB52\"],\"font\":{\"color\":\"#2a3f5f\"},\"hovermode\":\"closest\",\"hoverlabel\":{\"align\":\"left\"},\"paper_bgcolor\":\"white\",\"plot_bgcolor\":\"#E5ECF6\",\"polar\":{\"bgcolor\":\"#E5ECF6\",\"angularaxis\":{\"gridcolor\":\"white\",\"linecolor\":\"white\",\"ticks\":\"\"},\"radialaxis\":{\"gridcolor\":\"white\",\"linecolor\":\"white\",\"ticks\":\"\"}},\"ternary\":{\"bgcolor\":\"#E5ECF6\",\"aaxis\":{\"gridcolor\":\"white\",\"linecolor\":\"white\",\"ticks\":\"\"},\"baxis\":{\"gridcolor\":\"white\",\"linecolor\":\"white\",\"ticks\":\"\"},\"caxis\":{\"gridcolor\":\"white\",\"linecolor\":\"white\",\"ticks\":\"\"}},\"coloraxis\":{\"colorbar\":{\"outlinewidth\":0,\"ticks\":\"\"}},\"colorscale\":{\"sequential\":[[0.0,\"#0d0887\"],[0.1111111111111111,\"#46039f\"],[0.2222222222222222,\"#7201a8\"],[0.3333333333333333,\"#9c179e\"],[0.4444444444444444,\"#bd3786\"],[0.5555555555555556,\"#d8576b\"],[0.6666666666666666,\"#ed7953\"],[0.7777777777777778,\"#fb9f3a\"],[0.8888888888888888,\"#fdca26\"],[1.0,\"#f0f921\"]],\"sequentialminus\":[[0.0,\"#0d0887\"],[0.1111111111111111,\"#46039f\"],[0.2222222222222222,\"#7201a8\"],[0.3333333333333333,\"#9c179e\"],[0.4444444444444444,\"#bd3786\"],[0.5555555555555556,\"#d8576b\"],[0.6666666666666666,\"#ed7953\"],[0.7777777777777778,\"#fb9f3a\"],[0.8888888888888888,\"#fdca26\"],[1.0,\"#f0f921\"]],\"diverging\":[[0,\"#8e0152\"],[0.1,\"#c51b7d\"],[0.2,\"#de77ae\"],[0.3,\"#f1b6da\"],[0.4,\"#fde0ef\"],[0.5,\"#f7f7f7\"],[0.6,\"#e6f5d0\"],[0.7,\"#b8e186\"],[0.8,\"#7fbc41\"],[0.9,\"#4d9221\"],[1,\"#276419\"]]},\"xaxis\":{\"gridcolor\":\"white\",\"linecolor\":\"white\",\"ticks\":\"\",\"title\":{\"standoff\":15},\"zerolinecolor\":\"white\",\"automargin\":true,\"zerolinewidth\":2},\"yaxis\":{\"gridcolor\":\"white\",\"linecolor\":\"white\",\"ticks\":\"\",\"title\":{\"standoff\":15},\"zerolinecolor\":\"white\",\"automargin\":true,\"zerolinewidth\":2},\"scene\":{\"xaxis\":{\"backgroundcolor\":\"#E5ECF6\",\"gridcolor\":\"white\",\"linecolor\":\"white\",\"showbackground\":true,\"ticks\":\"\",\"zerolinecolor\":\"white\",\"gridwidth\":2},\"yaxis\":{\"backgroundcolor\":\"#E5ECF6\",\"gridcolor\":\"white\",\"linecolor\":\"white\",\"showbackground\":true,\"ticks\":\"\",\"zerolinecolor\":\"white\",\"gridwidth\":2},\"zaxis\":{\"backgroundcolor\":\"#E5ECF6\",\"gridcolor\":\"white\",\"linecolor\":\"white\",\"showbackground\":true,\"ticks\":\"\",\"zerolinecolor\":\"white\",\"gridwidth\":2}},\"shapedefaults\":{\"line\":{\"color\":\"#2a3f5f\"}},\"annotationdefaults\":{\"arrowcolor\":\"#2a3f5f\",\"arrowhead\":0,\"arrowwidth\":1},\"geo\":{\"bgcolor\":\"white\",\"landcolor\":\"#E5ECF6\",\"subunitcolor\":\"white\",\"showland\":true,\"showlakes\":true,\"lakecolor\":\"white\"},\"title\":{\"x\":0.05},\"mapbox\":{\"style\":\"light\"}}},\"xaxis\":{\"anchor\":\"y\",\"domain\":[0.0,0.94],\"title\":{\"text\":\"\\u0412\\u0440\\u0435\\u043c\\u044f\"}},\"yaxis\":{\"anchor\":\"x\",\"domain\":[0.0,1.0],\"title\":{\"text\":\"\\u0427\\u0438\\u0441\\u043b\\u043e \\u043f\\u043e\\u043b\\u044c\\u0437\\u043e\\u0432\\u0430\\u0442\\u0435\\u043b\\u0435\\u0439\"}},\"yaxis2\":{\"anchor\":\"x\",\"overlaying\":\"y\",\"side\":\"right\"},\"legend\":{\"orientation\":\"h\",\"x\":0.5,\"xanchor\":\"center\"},\"margin\":{\"l\":5,\"r\":5,\"t\":35,\"b\":5},\"title\":{\"text\":\"\\u041a\\u043e\\u043d\\u0432\\u0435\\u0440\\u0441\\u0438\\u044f \\u043f\\u043e\\u043b\\u044c\\u0437\\u043e\\u0432\\u0430\\u0442\\u0435\\u043b\\u0435\\u0439 \\u043f\\u043e \\u043d\\u0435\\u0434\\u0435\\u043b\\u044f\\u043c\"}},                        {\"responsive\": true}                    ).then(function(){\n",
       "                            \n",
       "var gd = document.getElementById('cea65f56-ebdc-40fb-9f59-c03754cd9bab');\n",
       "var x = new MutationObserver(function (mutations, observer) {{\n",
       "        var display = window.getComputedStyle(gd).display;\n",
       "        if (!display || display === 'none') {{\n",
       "            console.log([gd, 'removed!']);\n",
       "            Plotly.purge(gd);\n",
       "            observer.disconnect();\n",
       "        }}\n",
       "}});\n",
       "\n",
       "// Listen for the removal of the full notebook cells\n",
       "var notebookContainer = gd.closest('#notebook-container');\n",
       "if (notebookContainer) {{\n",
       "    x.observe(notebookContainer, {childList: true});\n",
       "}}\n",
       "\n",
       "// Listen for the clearing of the current output cell\n",
       "var outputEl = gd.closest('.output');\n",
       "if (outputEl) {{\n",
       "    x.observe(outputEl, {childList: true});\n",
       "}}\n",
       "\n",
       "                        })                };                });            </script>        </div>"
      ]
     },
     "metadata": {},
     "output_type": "display_data"
    }
   ],
   "source": [
    "#Строим график конверсии по месяцам\n",
    "fig = go.Figure()\n",
    "fig = make_subplots(specs=[[{\"secondary_y\": True}]])\n",
    "fig.add_trace(go.Scatter(x=by_month['month'], y=by_month['visitors'],mode='lines+markers', name='посетили сайт'),secondary_y=False)\n",
    "fig.add_trace(go.Scatter(x=by_month['month'], y=by_month['accounts'],mode='lines+markers', name='зарегистрировались'),secondary_y=False)\n",
    "fig.add_trace(go.Scatter(x=by_month['month'], y=by_month['apps'],mode='lines+markers', name='подали заявки'),secondary_y=False)\n",
    "fig.add_trace(go.Scatter(x=by_month['month'], y=by_month['gamers'],mode='lines+markers', name='пришли на игру'),secondary_y=False)\n",
    "fig.add_trace(go.Scatter(x=by_month['month'], y=by_week['vis-acc'],mode='lines+markers', name='conv_1'),secondary_y=True)\n",
    "fig.add_trace(go.Scatter(x=by_month['month'], y=by_week['acc-app'],mode='lines+markers', name='conv_2'),secondary_y=True)\n",
    "fig.add_trace(go.Scatter(x=by_month['month'], y=by_week['app-gam'],mode='lines+markers', name='conv_3'),secondary_y=True)\n",
    "\n",
    "fig.update_layout(legend_orientation = \"h\",\n",
    "                  legend=dict(x=.5, xanchor=\"center\"),\n",
    "                  title=\"Конверсия пользователей по неделям\",\n",
    "                  xaxis_title=\"Время\",\n",
    "                  yaxis_title=\"Число пользователей\",\n",
    "                  margin=dict(l=5, r=5, t=35, b=5))\n",
    "fig.show()"
   ]
  },
  {
   "cell_type": "code",
   "execution_count": 95,
   "id": "47b92992",
   "metadata": {},
   "outputs": [
    {
     "data": {
      "application/vnd.plotly.v1+json": {
       "config": {
        "plotlyServerURL": "https://plot.ly"
       },
       "data": [
        {
         "mode": "lines+markers",
         "name": "посетили сайт",
         "type": "scatter",
         "x": [
          "2022-08-29T00:00:00",
          "2022-09-05T00:00:00",
          "2022-09-12T00:00:00",
          "2022-09-19T00:00:00",
          "2022-09-26T00:00:00",
          "2022-10-03T00:00:00",
          "2022-10-10T00:00:00",
          "2022-10-17T00:00:00",
          "2022-10-24T00:00:00",
          "2022-10-31T00:00:00",
          "2022-11-07T00:00:00",
          "2022-11-14T00:00:00",
          "2022-11-21T00:00:00",
          "2022-11-28T00:00:00",
          "2022-12-05T00:00:00",
          "2022-12-12T00:00:00",
          "2022-12-19T00:00:00",
          "2022-12-26T00:00:00",
          "2022-12-26T00:00:00",
          "2023-01-02T00:00:00",
          "2023-01-09T00:00:00",
          "2023-01-16T00:00:00",
          "2023-01-23T00:00:00",
          "2023-01-30T00:00:00"
         ],
         "xaxis": "x",
         "y": [
          111,
          184,
          167,
          181,
          195,
          204,
          190,
          171,
          189,
          197,
          173,
          179,
          180,
          177,
          168,
          196,
          192,
          158,
          34,
          201,
          205,
          181,
          182,
          81
         ],
         "yaxis": "y"
        },
        {
         "mode": "lines+markers",
         "name": "зарегистрировались",
         "type": "scatter",
         "x": [
          "2022-08-29T00:00:00",
          "2022-09-05T00:00:00",
          "2022-09-12T00:00:00",
          "2022-09-19T00:00:00",
          "2022-09-26T00:00:00",
          "2022-10-03T00:00:00",
          "2022-10-10T00:00:00",
          "2022-10-17T00:00:00",
          "2022-10-24T00:00:00",
          "2022-10-31T00:00:00",
          "2022-11-07T00:00:00",
          "2022-11-14T00:00:00",
          "2022-11-21T00:00:00",
          "2022-11-28T00:00:00",
          "2022-12-05T00:00:00",
          "2022-12-12T00:00:00",
          "2022-12-19T00:00:00",
          "2022-12-26T00:00:00",
          "2022-12-26T00:00:00",
          "2023-01-02T00:00:00",
          "2023-01-09T00:00:00",
          "2023-01-16T00:00:00",
          "2023-01-23T00:00:00",
          "2023-01-30T00:00:00"
         ],
         "xaxis": "x",
         "y": [
          22,
          38,
          42,
          46,
          56,
          59,
          46,
          42,
          48,
          46,
          43,
          36,
          52,
          45,
          44,
          52,
          46,
          37,
          7,
          55,
          54,
          42,
          40,
          26
         ],
         "yaxis": "y"
        },
        {
         "mode": "lines+markers",
         "name": "подали заявки",
         "type": "scatter",
         "x": [
          "2022-08-29T00:00:00",
          "2022-09-05T00:00:00",
          "2022-09-12T00:00:00",
          "2022-09-19T00:00:00",
          "2022-09-26T00:00:00",
          "2022-10-03T00:00:00",
          "2022-10-10T00:00:00",
          "2022-10-17T00:00:00",
          "2022-10-24T00:00:00",
          "2022-10-31T00:00:00",
          "2022-11-07T00:00:00",
          "2022-11-14T00:00:00",
          "2022-11-21T00:00:00",
          "2022-11-28T00:00:00",
          "2022-12-05T00:00:00",
          "2022-12-12T00:00:00",
          "2022-12-19T00:00:00",
          "2022-12-26T00:00:00",
          "2022-12-26T00:00:00",
          "2023-01-02T00:00:00",
          "2023-01-09T00:00:00",
          "2023-01-16T00:00:00",
          "2023-01-23T00:00:00",
          "2023-01-30T00:00:00"
         ],
         "xaxis": "x",
         "y": [
          0,
          7,
          17,
          24,
          18,
          33,
          27,
          24,
          18,
          25,
          30,
          24,
          19,
          21,
          20,
          19,
          27,
          19,
          5,
          23,
          23,
          40,
          32,
          11
         ],
         "yaxis": "y"
        },
        {
         "mode": "lines+markers",
         "name": "пришли на игру",
         "type": "scatter",
         "x": [
          "2022-08-29T00:00:00",
          "2022-09-05T00:00:00",
          "2022-09-12T00:00:00",
          "2022-09-19T00:00:00",
          "2022-09-26T00:00:00",
          "2022-10-03T00:00:00",
          "2022-10-10T00:00:00",
          "2022-10-17T00:00:00",
          "2022-10-24T00:00:00",
          "2022-10-31T00:00:00",
          "2022-11-07T00:00:00",
          "2022-11-14T00:00:00",
          "2022-11-21T00:00:00",
          "2022-11-28T00:00:00",
          "2022-12-05T00:00:00",
          "2022-12-12T00:00:00",
          "2022-12-19T00:00:00",
          "2022-12-26T00:00:00",
          "2022-12-26T00:00:00",
          "2023-01-02T00:00:00",
          "2023-01-09T00:00:00",
          "2023-01-16T00:00:00",
          "2023-01-23T00:00:00",
          "2023-01-30T00:00:00"
         ],
         "xaxis": "x",
         "y": [
          0,
          0,
          1,
          1,
          1,
          5,
          3,
          5,
          7,
          8,
          10,
          7,
          14,
          10,
          13,
          11,
          7,
          10,
          1,
          16,
          8,
          15,
          17,
          9
         ],
         "yaxis": "y"
        },
        {
         "mode": "lines+markers",
         "name": "conv_1",
         "type": "scatter",
         "x": [
          "2022-08-29T00:00:00",
          "2022-09-05T00:00:00",
          "2022-09-12T00:00:00",
          "2022-09-19T00:00:00",
          "2022-09-26T00:00:00",
          "2022-10-03T00:00:00",
          "2022-10-10T00:00:00",
          "2022-10-17T00:00:00",
          "2022-10-24T00:00:00",
          "2022-10-31T00:00:00",
          "2022-11-07T00:00:00",
          "2022-11-14T00:00:00",
          "2022-11-21T00:00:00",
          "2022-11-28T00:00:00",
          "2022-12-05T00:00:00",
          "2022-12-12T00:00:00",
          "2022-12-19T00:00:00",
          "2022-12-26T00:00:00",
          "2022-12-26T00:00:00",
          "2023-01-02T00:00:00",
          "2023-01-09T00:00:00",
          "2023-01-16T00:00:00",
          "2023-01-23T00:00:00",
          "2023-01-30T00:00:00"
         ],
         "xaxis": "x",
         "y": [
          0.1981981981981982,
          0.20652173913043478,
          0.25149700598802394,
          0.2541436464088398,
          0.28717948717948716,
          0.28921568627450983,
          0.24210526315789474,
          0.24561403508771928,
          0.25396825396825395,
          0.233502538071066,
          0.24855491329479767,
          0.2011173184357542,
          0.28888888888888886,
          0.2542372881355932,
          0.2619047619047619,
          0.2653061224489796,
          0.23958333333333334,
          0.23417721518987342,
          0.20588235294117646,
          0.2736318407960199,
          0.2634146341463415,
          0.23204419889502761,
          0.21978021978021978,
          0.32098765432098764
         ],
         "yaxis": "y2"
        },
        {
         "mode": "lines+markers",
         "name": "conv_2",
         "type": "scatter",
         "x": [
          "2022-08-29T00:00:00",
          "2022-09-05T00:00:00",
          "2022-09-12T00:00:00",
          "2022-09-19T00:00:00",
          "2022-09-26T00:00:00",
          "2022-10-03T00:00:00",
          "2022-10-10T00:00:00",
          "2022-10-17T00:00:00",
          "2022-10-24T00:00:00",
          "2022-10-31T00:00:00",
          "2022-11-07T00:00:00",
          "2022-11-14T00:00:00",
          "2022-11-21T00:00:00",
          "2022-11-28T00:00:00",
          "2022-12-05T00:00:00",
          "2022-12-12T00:00:00",
          "2022-12-19T00:00:00",
          "2022-12-26T00:00:00",
          "2022-12-26T00:00:00",
          "2023-01-02T00:00:00",
          "2023-01-09T00:00:00",
          "2023-01-16T00:00:00",
          "2023-01-23T00:00:00",
          "2023-01-30T00:00:00"
         ],
         "xaxis": "x",
         "y": [
          0,
          0.18421052631578946,
          0.40476190476190477,
          0.5217391304347826,
          0.32142857142857145,
          0.559322033898305,
          0.5869565217391305,
          0.5714285714285714,
          0.375,
          0.5434782608695652,
          0.6976744186046512,
          0.6666666666666666,
          0.36538461538461536,
          0.4666666666666667,
          0.45454545454545453,
          0.36538461538461536,
          0.5869565217391305,
          0.5135135135135135,
          0.7142857142857143,
          0.41818181818181815,
          0.42592592592592593,
          0.9523809523809523,
          0.8,
          0.4230769230769231
         ],
         "yaxis": "y2"
        },
        {
         "mode": "lines+markers",
         "name": "conv_3",
         "type": "scatter",
         "x": [
          "2022-08-29T00:00:00",
          "2022-09-05T00:00:00",
          "2022-09-12T00:00:00",
          "2022-09-19T00:00:00",
          "2022-09-26T00:00:00",
          "2022-10-03T00:00:00",
          "2022-10-10T00:00:00",
          "2022-10-17T00:00:00",
          "2022-10-24T00:00:00",
          "2022-10-31T00:00:00",
          "2022-11-07T00:00:00",
          "2022-11-14T00:00:00",
          "2022-11-21T00:00:00",
          "2022-11-28T00:00:00",
          "2022-12-05T00:00:00",
          "2022-12-12T00:00:00",
          "2022-12-19T00:00:00",
          "2022-12-26T00:00:00",
          "2022-12-26T00:00:00",
          "2023-01-02T00:00:00",
          "2023-01-09T00:00:00",
          "2023-01-16T00:00:00",
          "2023-01-23T00:00:00",
          "2023-01-30T00:00:00"
         ],
         "xaxis": "x",
         "y": [
          0,
          0,
          0.058823529411764705,
          0.041666666666666664,
          0.05555555555555555,
          0.15151515151515152,
          0.1111111111111111,
          0.20833333333333334,
          0.3888888888888889,
          0.32,
          0.3333333333333333,
          0.2916666666666667,
          0.7368421052631579,
          0.47619047619047616,
          0.65,
          0.5789473684210527,
          0.25925925925925924,
          0.5263157894736842,
          0.2,
          0.6956521739130435,
          0.34782608695652173,
          0.375,
          0.53125,
          0.8181818181818182
         ],
         "yaxis": "y2"
        }
       ],
       "layout": {
        "legend": {
         "orientation": "h",
         "x": 0.5,
         "xanchor": "center"
        },
        "margin": {
         "b": 5,
         "l": 5,
         "r": 5,
         "t": 35
        },
        "template": {
         "data": {
          "bar": [
           {
            "error_x": {
             "color": "#2a3f5f"
            },
            "error_y": {
             "color": "#2a3f5f"
            },
            "marker": {
             "line": {
              "color": "#E5ECF6",
              "width": 0.5
             },
             "pattern": {
              "fillmode": "overlay",
              "size": 10,
              "solidity": 0.2
             }
            },
            "type": "bar"
           }
          ],
          "barpolar": [
           {
            "marker": {
             "line": {
              "color": "#E5ECF6",
              "width": 0.5
             },
             "pattern": {
              "fillmode": "overlay",
              "size": 10,
              "solidity": 0.2
             }
            },
            "type": "barpolar"
           }
          ],
          "carpet": [
           {
            "aaxis": {
             "endlinecolor": "#2a3f5f",
             "gridcolor": "white",
             "linecolor": "white",
             "minorgridcolor": "white",
             "startlinecolor": "#2a3f5f"
            },
            "baxis": {
             "endlinecolor": "#2a3f5f",
             "gridcolor": "white",
             "linecolor": "white",
             "minorgridcolor": "white",
             "startlinecolor": "#2a3f5f"
            },
            "type": "carpet"
           }
          ],
          "choropleth": [
           {
            "colorbar": {
             "outlinewidth": 0,
             "ticks": ""
            },
            "type": "choropleth"
           }
          ],
          "contour": [
           {
            "colorbar": {
             "outlinewidth": 0,
             "ticks": ""
            },
            "colorscale": [
             [
              0,
              "#0d0887"
             ],
             [
              0.1111111111111111,
              "#46039f"
             ],
             [
              0.2222222222222222,
              "#7201a8"
             ],
             [
              0.3333333333333333,
              "#9c179e"
             ],
             [
              0.4444444444444444,
              "#bd3786"
             ],
             [
              0.5555555555555556,
              "#d8576b"
             ],
             [
              0.6666666666666666,
              "#ed7953"
             ],
             [
              0.7777777777777778,
              "#fb9f3a"
             ],
             [
              0.8888888888888888,
              "#fdca26"
             ],
             [
              1,
              "#f0f921"
             ]
            ],
            "type": "contour"
           }
          ],
          "contourcarpet": [
           {
            "colorbar": {
             "outlinewidth": 0,
             "ticks": ""
            },
            "type": "contourcarpet"
           }
          ],
          "heatmap": [
           {
            "colorbar": {
             "outlinewidth": 0,
             "ticks": ""
            },
            "colorscale": [
             [
              0,
              "#0d0887"
             ],
             [
              0.1111111111111111,
              "#46039f"
             ],
             [
              0.2222222222222222,
              "#7201a8"
             ],
             [
              0.3333333333333333,
              "#9c179e"
             ],
             [
              0.4444444444444444,
              "#bd3786"
             ],
             [
              0.5555555555555556,
              "#d8576b"
             ],
             [
              0.6666666666666666,
              "#ed7953"
             ],
             [
              0.7777777777777778,
              "#fb9f3a"
             ],
             [
              0.8888888888888888,
              "#fdca26"
             ],
             [
              1,
              "#f0f921"
             ]
            ],
            "type": "heatmap"
           }
          ],
          "heatmapgl": [
           {
            "colorbar": {
             "outlinewidth": 0,
             "ticks": ""
            },
            "colorscale": [
             [
              0,
              "#0d0887"
             ],
             [
              0.1111111111111111,
              "#46039f"
             ],
             [
              0.2222222222222222,
              "#7201a8"
             ],
             [
              0.3333333333333333,
              "#9c179e"
             ],
             [
              0.4444444444444444,
              "#bd3786"
             ],
             [
              0.5555555555555556,
              "#d8576b"
             ],
             [
              0.6666666666666666,
              "#ed7953"
             ],
             [
              0.7777777777777778,
              "#fb9f3a"
             ],
             [
              0.8888888888888888,
              "#fdca26"
             ],
             [
              1,
              "#f0f921"
             ]
            ],
            "type": "heatmapgl"
           }
          ],
          "histogram": [
           {
            "marker": {
             "pattern": {
              "fillmode": "overlay",
              "size": 10,
              "solidity": 0.2
             }
            },
            "type": "histogram"
           }
          ],
          "histogram2d": [
           {
            "colorbar": {
             "outlinewidth": 0,
             "ticks": ""
            },
            "colorscale": [
             [
              0,
              "#0d0887"
             ],
             [
              0.1111111111111111,
              "#46039f"
             ],
             [
              0.2222222222222222,
              "#7201a8"
             ],
             [
              0.3333333333333333,
              "#9c179e"
             ],
             [
              0.4444444444444444,
              "#bd3786"
             ],
             [
              0.5555555555555556,
              "#d8576b"
             ],
             [
              0.6666666666666666,
              "#ed7953"
             ],
             [
              0.7777777777777778,
              "#fb9f3a"
             ],
             [
              0.8888888888888888,
              "#fdca26"
             ],
             [
              1,
              "#f0f921"
             ]
            ],
            "type": "histogram2d"
           }
          ],
          "histogram2dcontour": [
           {
            "colorbar": {
             "outlinewidth": 0,
             "ticks": ""
            },
            "colorscale": [
             [
              0,
              "#0d0887"
             ],
             [
              0.1111111111111111,
              "#46039f"
             ],
             [
              0.2222222222222222,
              "#7201a8"
             ],
             [
              0.3333333333333333,
              "#9c179e"
             ],
             [
              0.4444444444444444,
              "#bd3786"
             ],
             [
              0.5555555555555556,
              "#d8576b"
             ],
             [
              0.6666666666666666,
              "#ed7953"
             ],
             [
              0.7777777777777778,
              "#fb9f3a"
             ],
             [
              0.8888888888888888,
              "#fdca26"
             ],
             [
              1,
              "#f0f921"
             ]
            ],
            "type": "histogram2dcontour"
           }
          ],
          "mesh3d": [
           {
            "colorbar": {
             "outlinewidth": 0,
             "ticks": ""
            },
            "type": "mesh3d"
           }
          ],
          "parcoords": [
           {
            "line": {
             "colorbar": {
              "outlinewidth": 0,
              "ticks": ""
             }
            },
            "type": "parcoords"
           }
          ],
          "pie": [
           {
            "automargin": true,
            "type": "pie"
           }
          ],
          "scatter": [
           {
            "fillpattern": {
             "fillmode": "overlay",
             "size": 10,
             "solidity": 0.2
            },
            "type": "scatter"
           }
          ],
          "scatter3d": [
           {
            "line": {
             "colorbar": {
              "outlinewidth": 0,
              "ticks": ""
             }
            },
            "marker": {
             "colorbar": {
              "outlinewidth": 0,
              "ticks": ""
             }
            },
            "type": "scatter3d"
           }
          ],
          "scattercarpet": [
           {
            "marker": {
             "colorbar": {
              "outlinewidth": 0,
              "ticks": ""
             }
            },
            "type": "scattercarpet"
           }
          ],
          "scattergeo": [
           {
            "marker": {
             "colorbar": {
              "outlinewidth": 0,
              "ticks": ""
             }
            },
            "type": "scattergeo"
           }
          ],
          "scattergl": [
           {
            "marker": {
             "colorbar": {
              "outlinewidth": 0,
              "ticks": ""
             }
            },
            "type": "scattergl"
           }
          ],
          "scattermapbox": [
           {
            "marker": {
             "colorbar": {
              "outlinewidth": 0,
              "ticks": ""
             }
            },
            "type": "scattermapbox"
           }
          ],
          "scatterpolar": [
           {
            "marker": {
             "colorbar": {
              "outlinewidth": 0,
              "ticks": ""
             }
            },
            "type": "scatterpolar"
           }
          ],
          "scatterpolargl": [
           {
            "marker": {
             "colorbar": {
              "outlinewidth": 0,
              "ticks": ""
             }
            },
            "type": "scatterpolargl"
           }
          ],
          "scatterternary": [
           {
            "marker": {
             "colorbar": {
              "outlinewidth": 0,
              "ticks": ""
             }
            },
            "type": "scatterternary"
           }
          ],
          "surface": [
           {
            "colorbar": {
             "outlinewidth": 0,
             "ticks": ""
            },
            "colorscale": [
             [
              0,
              "#0d0887"
             ],
             [
              0.1111111111111111,
              "#46039f"
             ],
             [
              0.2222222222222222,
              "#7201a8"
             ],
             [
              0.3333333333333333,
              "#9c179e"
             ],
             [
              0.4444444444444444,
              "#bd3786"
             ],
             [
              0.5555555555555556,
              "#d8576b"
             ],
             [
              0.6666666666666666,
              "#ed7953"
             ],
             [
              0.7777777777777778,
              "#fb9f3a"
             ],
             [
              0.8888888888888888,
              "#fdca26"
             ],
             [
              1,
              "#f0f921"
             ]
            ],
            "type": "surface"
           }
          ],
          "table": [
           {
            "cells": {
             "fill": {
              "color": "#EBF0F8"
             },
             "line": {
              "color": "white"
             }
            },
            "header": {
             "fill": {
              "color": "#C8D4E3"
             },
             "line": {
              "color": "white"
             }
            },
            "type": "table"
           }
          ]
         },
         "layout": {
          "annotationdefaults": {
           "arrowcolor": "#2a3f5f",
           "arrowhead": 0,
           "arrowwidth": 1
          },
          "autotypenumbers": "strict",
          "coloraxis": {
           "colorbar": {
            "outlinewidth": 0,
            "ticks": ""
           }
          },
          "colorscale": {
           "diverging": [
            [
             0,
             "#8e0152"
            ],
            [
             0.1,
             "#c51b7d"
            ],
            [
             0.2,
             "#de77ae"
            ],
            [
             0.3,
             "#f1b6da"
            ],
            [
             0.4,
             "#fde0ef"
            ],
            [
             0.5,
             "#f7f7f7"
            ],
            [
             0.6,
             "#e6f5d0"
            ],
            [
             0.7,
             "#b8e186"
            ],
            [
             0.8,
             "#7fbc41"
            ],
            [
             0.9,
             "#4d9221"
            ],
            [
             1,
             "#276419"
            ]
           ],
           "sequential": [
            [
             0,
             "#0d0887"
            ],
            [
             0.1111111111111111,
             "#46039f"
            ],
            [
             0.2222222222222222,
             "#7201a8"
            ],
            [
             0.3333333333333333,
             "#9c179e"
            ],
            [
             0.4444444444444444,
             "#bd3786"
            ],
            [
             0.5555555555555556,
             "#d8576b"
            ],
            [
             0.6666666666666666,
             "#ed7953"
            ],
            [
             0.7777777777777778,
             "#fb9f3a"
            ],
            [
             0.8888888888888888,
             "#fdca26"
            ],
            [
             1,
             "#f0f921"
            ]
           ],
           "sequentialminus": [
            [
             0,
             "#0d0887"
            ],
            [
             0.1111111111111111,
             "#46039f"
            ],
            [
             0.2222222222222222,
             "#7201a8"
            ],
            [
             0.3333333333333333,
             "#9c179e"
            ],
            [
             0.4444444444444444,
             "#bd3786"
            ],
            [
             0.5555555555555556,
             "#d8576b"
            ],
            [
             0.6666666666666666,
             "#ed7953"
            ],
            [
             0.7777777777777778,
             "#fb9f3a"
            ],
            [
             0.8888888888888888,
             "#fdca26"
            ],
            [
             1,
             "#f0f921"
            ]
           ]
          },
          "colorway": [
           "#636efa",
           "#EF553B",
           "#00cc96",
           "#ab63fa",
           "#FFA15A",
           "#19d3f3",
           "#FF6692",
           "#B6E880",
           "#FF97FF",
           "#FECB52"
          ],
          "font": {
           "color": "#2a3f5f"
          },
          "geo": {
           "bgcolor": "white",
           "lakecolor": "white",
           "landcolor": "#E5ECF6",
           "showlakes": true,
           "showland": true,
           "subunitcolor": "white"
          },
          "hoverlabel": {
           "align": "left"
          },
          "hovermode": "closest",
          "mapbox": {
           "style": "light"
          },
          "paper_bgcolor": "white",
          "plot_bgcolor": "#E5ECF6",
          "polar": {
           "angularaxis": {
            "gridcolor": "white",
            "linecolor": "white",
            "ticks": ""
           },
           "bgcolor": "#E5ECF6",
           "radialaxis": {
            "gridcolor": "white",
            "linecolor": "white",
            "ticks": ""
           }
          },
          "scene": {
           "xaxis": {
            "backgroundcolor": "#E5ECF6",
            "gridcolor": "white",
            "gridwidth": 2,
            "linecolor": "white",
            "showbackground": true,
            "ticks": "",
            "zerolinecolor": "white"
           },
           "yaxis": {
            "backgroundcolor": "#E5ECF6",
            "gridcolor": "white",
            "gridwidth": 2,
            "linecolor": "white",
            "showbackground": true,
            "ticks": "",
            "zerolinecolor": "white"
           },
           "zaxis": {
            "backgroundcolor": "#E5ECF6",
            "gridcolor": "white",
            "gridwidth": 2,
            "linecolor": "white",
            "showbackground": true,
            "ticks": "",
            "zerolinecolor": "white"
           }
          },
          "shapedefaults": {
           "line": {
            "color": "#2a3f5f"
           }
          },
          "ternary": {
           "aaxis": {
            "gridcolor": "white",
            "linecolor": "white",
            "ticks": ""
           },
           "baxis": {
            "gridcolor": "white",
            "linecolor": "white",
            "ticks": ""
           },
           "bgcolor": "#E5ECF6",
           "caxis": {
            "gridcolor": "white",
            "linecolor": "white",
            "ticks": ""
           }
          },
          "title": {
           "x": 0.05
          },
          "xaxis": {
           "automargin": true,
           "gridcolor": "white",
           "linecolor": "white",
           "ticks": "",
           "title": {
            "standoff": 15
           },
           "zerolinecolor": "white",
           "zerolinewidth": 2
          },
          "yaxis": {
           "automargin": true,
           "gridcolor": "white",
           "linecolor": "white",
           "ticks": "",
           "title": {
            "standoff": 15
           },
           "zerolinecolor": "white",
           "zerolinewidth": 2
          }
         }
        },
        "title": {
         "text": "Конверсия пользователей по неделям"
        },
        "xaxis": {
         "anchor": "y",
         "domain": [
          0,
          0.94
         ],
         "title": {
          "text": "Время"
         }
        },
        "yaxis": {
         "anchor": "x",
         "domain": [
          0,
          1
         ],
         "title": {
          "text": "Число пользователей"
         }
        },
        "yaxis2": {
         "anchor": "x",
         "overlaying": "y",
         "side": "right"
        }
       }
      },
      "text/html": [
       "<div>                            <div id=\"119866e0-2998-4e1e-b23b-c003b8fd08f9\" class=\"plotly-graph-div\" style=\"height:525px; width:100%;\"></div>            <script type=\"text/javascript\">                require([\"plotly\"], function(Plotly) {                    window.PLOTLYENV=window.PLOTLYENV || {};                                    if (document.getElementById(\"119866e0-2998-4e1e-b23b-c003b8fd08f9\")) {                    Plotly.newPlot(                        \"119866e0-2998-4e1e-b23b-c003b8fd08f9\",                        [{\"mode\":\"lines+markers\",\"name\":\"\\u043f\\u043e\\u0441\\u0435\\u0442\\u0438\\u043b\\u0438 \\u0441\\u0430\\u0439\\u0442\",\"x\":[\"2022-08-29T00:00:00\",\"2022-09-05T00:00:00\",\"2022-09-12T00:00:00\",\"2022-09-19T00:00:00\",\"2022-09-26T00:00:00\",\"2022-10-03T00:00:00\",\"2022-10-10T00:00:00\",\"2022-10-17T00:00:00\",\"2022-10-24T00:00:00\",\"2022-10-31T00:00:00\",\"2022-11-07T00:00:00\",\"2022-11-14T00:00:00\",\"2022-11-21T00:00:00\",\"2022-11-28T00:00:00\",\"2022-12-05T00:00:00\",\"2022-12-12T00:00:00\",\"2022-12-19T00:00:00\",\"2022-12-26T00:00:00\",\"2022-12-26T00:00:00\",\"2023-01-02T00:00:00\",\"2023-01-09T00:00:00\",\"2023-01-16T00:00:00\",\"2023-01-23T00:00:00\",\"2023-01-30T00:00:00\"],\"y\":[111,184,167,181,195,204,190,171,189,197,173,179,180,177,168,196,192,158,34,201,205,181,182,81],\"type\":\"scatter\",\"xaxis\":\"x\",\"yaxis\":\"y\"},{\"mode\":\"lines+markers\",\"name\":\"\\u0437\\u0430\\u0440\\u0435\\u0433\\u0438\\u0441\\u0442\\u0440\\u0438\\u0440\\u043e\\u0432\\u0430\\u043b\\u0438\\u0441\\u044c\",\"x\":[\"2022-08-29T00:00:00\",\"2022-09-05T00:00:00\",\"2022-09-12T00:00:00\",\"2022-09-19T00:00:00\",\"2022-09-26T00:00:00\",\"2022-10-03T00:00:00\",\"2022-10-10T00:00:00\",\"2022-10-17T00:00:00\",\"2022-10-24T00:00:00\",\"2022-10-31T00:00:00\",\"2022-11-07T00:00:00\",\"2022-11-14T00:00:00\",\"2022-11-21T00:00:00\",\"2022-11-28T00:00:00\",\"2022-12-05T00:00:00\",\"2022-12-12T00:00:00\",\"2022-12-19T00:00:00\",\"2022-12-26T00:00:00\",\"2022-12-26T00:00:00\",\"2023-01-02T00:00:00\",\"2023-01-09T00:00:00\",\"2023-01-16T00:00:00\",\"2023-01-23T00:00:00\",\"2023-01-30T00:00:00\"],\"y\":[22,38,42,46,56,59,46,42,48,46,43,36,52,45,44,52,46,37,7,55,54,42,40,26],\"type\":\"scatter\",\"xaxis\":\"x\",\"yaxis\":\"y\"},{\"mode\":\"lines+markers\",\"name\":\"\\u043f\\u043e\\u0434\\u0430\\u043b\\u0438 \\u0437\\u0430\\u044f\\u0432\\u043a\\u0438\",\"x\":[\"2022-08-29T00:00:00\",\"2022-09-05T00:00:00\",\"2022-09-12T00:00:00\",\"2022-09-19T00:00:00\",\"2022-09-26T00:00:00\",\"2022-10-03T00:00:00\",\"2022-10-10T00:00:00\",\"2022-10-17T00:00:00\",\"2022-10-24T00:00:00\",\"2022-10-31T00:00:00\",\"2022-11-07T00:00:00\",\"2022-11-14T00:00:00\",\"2022-11-21T00:00:00\",\"2022-11-28T00:00:00\",\"2022-12-05T00:00:00\",\"2022-12-12T00:00:00\",\"2022-12-19T00:00:00\",\"2022-12-26T00:00:00\",\"2022-12-26T00:00:00\",\"2023-01-02T00:00:00\",\"2023-01-09T00:00:00\",\"2023-01-16T00:00:00\",\"2023-01-23T00:00:00\",\"2023-01-30T00:00:00\"],\"y\":[0,7,17,24,18,33,27,24,18,25,30,24,19,21,20,19,27,19,5,23,23,40,32,11],\"type\":\"scatter\",\"xaxis\":\"x\",\"yaxis\":\"y\"},{\"mode\":\"lines+markers\",\"name\":\"\\u043f\\u0440\\u0438\\u0448\\u043b\\u0438 \\u043d\\u0430 \\u0438\\u0433\\u0440\\u0443\",\"x\":[\"2022-08-29T00:00:00\",\"2022-09-05T00:00:00\",\"2022-09-12T00:00:00\",\"2022-09-19T00:00:00\",\"2022-09-26T00:00:00\",\"2022-10-03T00:00:00\",\"2022-10-10T00:00:00\",\"2022-10-17T00:00:00\",\"2022-10-24T00:00:00\",\"2022-10-31T00:00:00\",\"2022-11-07T00:00:00\",\"2022-11-14T00:00:00\",\"2022-11-21T00:00:00\",\"2022-11-28T00:00:00\",\"2022-12-05T00:00:00\",\"2022-12-12T00:00:00\",\"2022-12-19T00:00:00\",\"2022-12-26T00:00:00\",\"2022-12-26T00:00:00\",\"2023-01-02T00:00:00\",\"2023-01-09T00:00:00\",\"2023-01-16T00:00:00\",\"2023-01-23T00:00:00\",\"2023-01-30T00:00:00\"],\"y\":[0,0,1,1,1,5,3,5,7,8,10,7,14,10,13,11,7,10,1,16,8,15,17,9],\"type\":\"scatter\",\"xaxis\":\"x\",\"yaxis\":\"y\"},{\"mode\":\"lines+markers\",\"name\":\"conv_1\",\"x\":[\"2022-08-29T00:00:00\",\"2022-09-05T00:00:00\",\"2022-09-12T00:00:00\",\"2022-09-19T00:00:00\",\"2022-09-26T00:00:00\",\"2022-10-03T00:00:00\",\"2022-10-10T00:00:00\",\"2022-10-17T00:00:00\",\"2022-10-24T00:00:00\",\"2022-10-31T00:00:00\",\"2022-11-07T00:00:00\",\"2022-11-14T00:00:00\",\"2022-11-21T00:00:00\",\"2022-11-28T00:00:00\",\"2022-12-05T00:00:00\",\"2022-12-12T00:00:00\",\"2022-12-19T00:00:00\",\"2022-12-26T00:00:00\",\"2022-12-26T00:00:00\",\"2023-01-02T00:00:00\",\"2023-01-09T00:00:00\",\"2023-01-16T00:00:00\",\"2023-01-23T00:00:00\",\"2023-01-30T00:00:00\"],\"y\":[0.1981981981981982,0.20652173913043478,0.25149700598802394,0.2541436464088398,0.28717948717948716,0.28921568627450983,0.24210526315789474,0.24561403508771928,0.25396825396825395,0.233502538071066,0.24855491329479767,0.2011173184357542,0.28888888888888886,0.2542372881355932,0.2619047619047619,0.2653061224489796,0.23958333333333334,0.23417721518987342,0.20588235294117646,0.2736318407960199,0.2634146341463415,0.23204419889502761,0.21978021978021978,0.32098765432098764],\"type\":\"scatter\",\"xaxis\":\"x\",\"yaxis\":\"y2\"},{\"mode\":\"lines+markers\",\"name\":\"conv_2\",\"x\":[\"2022-08-29T00:00:00\",\"2022-09-05T00:00:00\",\"2022-09-12T00:00:00\",\"2022-09-19T00:00:00\",\"2022-09-26T00:00:00\",\"2022-10-03T00:00:00\",\"2022-10-10T00:00:00\",\"2022-10-17T00:00:00\",\"2022-10-24T00:00:00\",\"2022-10-31T00:00:00\",\"2022-11-07T00:00:00\",\"2022-11-14T00:00:00\",\"2022-11-21T00:00:00\",\"2022-11-28T00:00:00\",\"2022-12-05T00:00:00\",\"2022-12-12T00:00:00\",\"2022-12-19T00:00:00\",\"2022-12-26T00:00:00\",\"2022-12-26T00:00:00\",\"2023-01-02T00:00:00\",\"2023-01-09T00:00:00\",\"2023-01-16T00:00:00\",\"2023-01-23T00:00:00\",\"2023-01-30T00:00:00\"],\"y\":[0.0,0.18421052631578946,0.40476190476190477,0.5217391304347826,0.32142857142857145,0.559322033898305,0.5869565217391305,0.5714285714285714,0.375,0.5434782608695652,0.6976744186046512,0.6666666666666666,0.36538461538461536,0.4666666666666667,0.45454545454545453,0.36538461538461536,0.5869565217391305,0.5135135135135135,0.7142857142857143,0.41818181818181815,0.42592592592592593,0.9523809523809523,0.8,0.4230769230769231],\"type\":\"scatter\",\"xaxis\":\"x\",\"yaxis\":\"y2\"},{\"mode\":\"lines+markers\",\"name\":\"conv_3\",\"x\":[\"2022-08-29T00:00:00\",\"2022-09-05T00:00:00\",\"2022-09-12T00:00:00\",\"2022-09-19T00:00:00\",\"2022-09-26T00:00:00\",\"2022-10-03T00:00:00\",\"2022-10-10T00:00:00\",\"2022-10-17T00:00:00\",\"2022-10-24T00:00:00\",\"2022-10-31T00:00:00\",\"2022-11-07T00:00:00\",\"2022-11-14T00:00:00\",\"2022-11-21T00:00:00\",\"2022-11-28T00:00:00\",\"2022-12-05T00:00:00\",\"2022-12-12T00:00:00\",\"2022-12-19T00:00:00\",\"2022-12-26T00:00:00\",\"2022-12-26T00:00:00\",\"2023-01-02T00:00:00\",\"2023-01-09T00:00:00\",\"2023-01-16T00:00:00\",\"2023-01-23T00:00:00\",\"2023-01-30T00:00:00\"],\"y\":[0.0,0.0,0.058823529411764705,0.041666666666666664,0.05555555555555555,0.15151515151515152,0.1111111111111111,0.20833333333333334,0.3888888888888889,0.32,0.3333333333333333,0.2916666666666667,0.7368421052631579,0.47619047619047616,0.65,0.5789473684210527,0.25925925925925924,0.5263157894736842,0.2,0.6956521739130435,0.34782608695652173,0.375,0.53125,0.8181818181818182],\"type\":\"scatter\",\"xaxis\":\"x\",\"yaxis\":\"y2\"}],                        {\"template\":{\"data\":{\"histogram2dcontour\":[{\"type\":\"histogram2dcontour\",\"colorbar\":{\"outlinewidth\":0,\"ticks\":\"\"},\"colorscale\":[[0.0,\"#0d0887\"],[0.1111111111111111,\"#46039f\"],[0.2222222222222222,\"#7201a8\"],[0.3333333333333333,\"#9c179e\"],[0.4444444444444444,\"#bd3786\"],[0.5555555555555556,\"#d8576b\"],[0.6666666666666666,\"#ed7953\"],[0.7777777777777778,\"#fb9f3a\"],[0.8888888888888888,\"#fdca26\"],[1.0,\"#f0f921\"]]}],\"choropleth\":[{\"type\":\"choropleth\",\"colorbar\":{\"outlinewidth\":0,\"ticks\":\"\"}}],\"histogram2d\":[{\"type\":\"histogram2d\",\"colorbar\":{\"outlinewidth\":0,\"ticks\":\"\"},\"colorscale\":[[0.0,\"#0d0887\"],[0.1111111111111111,\"#46039f\"],[0.2222222222222222,\"#7201a8\"],[0.3333333333333333,\"#9c179e\"],[0.4444444444444444,\"#bd3786\"],[0.5555555555555556,\"#d8576b\"],[0.6666666666666666,\"#ed7953\"],[0.7777777777777778,\"#fb9f3a\"],[0.8888888888888888,\"#fdca26\"],[1.0,\"#f0f921\"]]}],\"heatmap\":[{\"type\":\"heatmap\",\"colorbar\":{\"outlinewidth\":0,\"ticks\":\"\"},\"colorscale\":[[0.0,\"#0d0887\"],[0.1111111111111111,\"#46039f\"],[0.2222222222222222,\"#7201a8\"],[0.3333333333333333,\"#9c179e\"],[0.4444444444444444,\"#bd3786\"],[0.5555555555555556,\"#d8576b\"],[0.6666666666666666,\"#ed7953\"],[0.7777777777777778,\"#fb9f3a\"],[0.8888888888888888,\"#fdca26\"],[1.0,\"#f0f921\"]]}],\"heatmapgl\":[{\"type\":\"heatmapgl\",\"colorbar\":{\"outlinewidth\":0,\"ticks\":\"\"},\"colorscale\":[[0.0,\"#0d0887\"],[0.1111111111111111,\"#46039f\"],[0.2222222222222222,\"#7201a8\"],[0.3333333333333333,\"#9c179e\"],[0.4444444444444444,\"#bd3786\"],[0.5555555555555556,\"#d8576b\"],[0.6666666666666666,\"#ed7953\"],[0.7777777777777778,\"#fb9f3a\"],[0.8888888888888888,\"#fdca26\"],[1.0,\"#f0f921\"]]}],\"contourcarpet\":[{\"type\":\"contourcarpet\",\"colorbar\":{\"outlinewidth\":0,\"ticks\":\"\"}}],\"contour\":[{\"type\":\"contour\",\"colorbar\":{\"outlinewidth\":0,\"ticks\":\"\"},\"colorscale\":[[0.0,\"#0d0887\"],[0.1111111111111111,\"#46039f\"],[0.2222222222222222,\"#7201a8\"],[0.3333333333333333,\"#9c179e\"],[0.4444444444444444,\"#bd3786\"],[0.5555555555555556,\"#d8576b\"],[0.6666666666666666,\"#ed7953\"],[0.7777777777777778,\"#fb9f3a\"],[0.8888888888888888,\"#fdca26\"],[1.0,\"#f0f921\"]]}],\"surface\":[{\"type\":\"surface\",\"colorbar\":{\"outlinewidth\":0,\"ticks\":\"\"},\"colorscale\":[[0.0,\"#0d0887\"],[0.1111111111111111,\"#46039f\"],[0.2222222222222222,\"#7201a8\"],[0.3333333333333333,\"#9c179e\"],[0.4444444444444444,\"#bd3786\"],[0.5555555555555556,\"#d8576b\"],[0.6666666666666666,\"#ed7953\"],[0.7777777777777778,\"#fb9f3a\"],[0.8888888888888888,\"#fdca26\"],[1.0,\"#f0f921\"]]}],\"mesh3d\":[{\"type\":\"mesh3d\",\"colorbar\":{\"outlinewidth\":0,\"ticks\":\"\"}}],\"scatter\":[{\"fillpattern\":{\"fillmode\":\"overlay\",\"size\":10,\"solidity\":0.2},\"type\":\"scatter\"}],\"parcoords\":[{\"type\":\"parcoords\",\"line\":{\"colorbar\":{\"outlinewidth\":0,\"ticks\":\"\"}}}],\"scatterpolargl\":[{\"type\":\"scatterpolargl\",\"marker\":{\"colorbar\":{\"outlinewidth\":0,\"ticks\":\"\"}}}],\"bar\":[{\"error_x\":{\"color\":\"#2a3f5f\"},\"error_y\":{\"color\":\"#2a3f5f\"},\"marker\":{\"line\":{\"color\":\"#E5ECF6\",\"width\":0.5},\"pattern\":{\"fillmode\":\"overlay\",\"size\":10,\"solidity\":0.2}},\"type\":\"bar\"}],\"scattergeo\":[{\"type\":\"scattergeo\",\"marker\":{\"colorbar\":{\"outlinewidth\":0,\"ticks\":\"\"}}}],\"scatterpolar\":[{\"type\":\"scatterpolar\",\"marker\":{\"colorbar\":{\"outlinewidth\":0,\"ticks\":\"\"}}}],\"histogram\":[{\"marker\":{\"pattern\":{\"fillmode\":\"overlay\",\"size\":10,\"solidity\":0.2}},\"type\":\"histogram\"}],\"scattergl\":[{\"type\":\"scattergl\",\"marker\":{\"colorbar\":{\"outlinewidth\":0,\"ticks\":\"\"}}}],\"scatter3d\":[{\"type\":\"scatter3d\",\"line\":{\"colorbar\":{\"outlinewidth\":0,\"ticks\":\"\"}},\"marker\":{\"colorbar\":{\"outlinewidth\":0,\"ticks\":\"\"}}}],\"scattermapbox\":[{\"type\":\"scattermapbox\",\"marker\":{\"colorbar\":{\"outlinewidth\":0,\"ticks\":\"\"}}}],\"scatterternary\":[{\"type\":\"scatterternary\",\"marker\":{\"colorbar\":{\"outlinewidth\":0,\"ticks\":\"\"}}}],\"scattercarpet\":[{\"type\":\"scattercarpet\",\"marker\":{\"colorbar\":{\"outlinewidth\":0,\"ticks\":\"\"}}}],\"carpet\":[{\"aaxis\":{\"endlinecolor\":\"#2a3f5f\",\"gridcolor\":\"white\",\"linecolor\":\"white\",\"minorgridcolor\":\"white\",\"startlinecolor\":\"#2a3f5f\"},\"baxis\":{\"endlinecolor\":\"#2a3f5f\",\"gridcolor\":\"white\",\"linecolor\":\"white\",\"minorgridcolor\":\"white\",\"startlinecolor\":\"#2a3f5f\"},\"type\":\"carpet\"}],\"table\":[{\"cells\":{\"fill\":{\"color\":\"#EBF0F8\"},\"line\":{\"color\":\"white\"}},\"header\":{\"fill\":{\"color\":\"#C8D4E3\"},\"line\":{\"color\":\"white\"}},\"type\":\"table\"}],\"barpolar\":[{\"marker\":{\"line\":{\"color\":\"#E5ECF6\",\"width\":0.5},\"pattern\":{\"fillmode\":\"overlay\",\"size\":10,\"solidity\":0.2}},\"type\":\"barpolar\"}],\"pie\":[{\"automargin\":true,\"type\":\"pie\"}]},\"layout\":{\"autotypenumbers\":\"strict\",\"colorway\":[\"#636efa\",\"#EF553B\",\"#00cc96\",\"#ab63fa\",\"#FFA15A\",\"#19d3f3\",\"#FF6692\",\"#B6E880\",\"#FF97FF\",\"#FECB52\"],\"font\":{\"color\":\"#2a3f5f\"},\"hovermode\":\"closest\",\"hoverlabel\":{\"align\":\"left\"},\"paper_bgcolor\":\"white\",\"plot_bgcolor\":\"#E5ECF6\",\"polar\":{\"bgcolor\":\"#E5ECF6\",\"angularaxis\":{\"gridcolor\":\"white\",\"linecolor\":\"white\",\"ticks\":\"\"},\"radialaxis\":{\"gridcolor\":\"white\",\"linecolor\":\"white\",\"ticks\":\"\"}},\"ternary\":{\"bgcolor\":\"#E5ECF6\",\"aaxis\":{\"gridcolor\":\"white\",\"linecolor\":\"white\",\"ticks\":\"\"},\"baxis\":{\"gridcolor\":\"white\",\"linecolor\":\"white\",\"ticks\":\"\"},\"caxis\":{\"gridcolor\":\"white\",\"linecolor\":\"white\",\"ticks\":\"\"}},\"coloraxis\":{\"colorbar\":{\"outlinewidth\":0,\"ticks\":\"\"}},\"colorscale\":{\"sequential\":[[0.0,\"#0d0887\"],[0.1111111111111111,\"#46039f\"],[0.2222222222222222,\"#7201a8\"],[0.3333333333333333,\"#9c179e\"],[0.4444444444444444,\"#bd3786\"],[0.5555555555555556,\"#d8576b\"],[0.6666666666666666,\"#ed7953\"],[0.7777777777777778,\"#fb9f3a\"],[0.8888888888888888,\"#fdca26\"],[1.0,\"#f0f921\"]],\"sequentialminus\":[[0.0,\"#0d0887\"],[0.1111111111111111,\"#46039f\"],[0.2222222222222222,\"#7201a8\"],[0.3333333333333333,\"#9c179e\"],[0.4444444444444444,\"#bd3786\"],[0.5555555555555556,\"#d8576b\"],[0.6666666666666666,\"#ed7953\"],[0.7777777777777778,\"#fb9f3a\"],[0.8888888888888888,\"#fdca26\"],[1.0,\"#f0f921\"]],\"diverging\":[[0,\"#8e0152\"],[0.1,\"#c51b7d\"],[0.2,\"#de77ae\"],[0.3,\"#f1b6da\"],[0.4,\"#fde0ef\"],[0.5,\"#f7f7f7\"],[0.6,\"#e6f5d0\"],[0.7,\"#b8e186\"],[0.8,\"#7fbc41\"],[0.9,\"#4d9221\"],[1,\"#276419\"]]},\"xaxis\":{\"gridcolor\":\"white\",\"linecolor\":\"white\",\"ticks\":\"\",\"title\":{\"standoff\":15},\"zerolinecolor\":\"white\",\"automargin\":true,\"zerolinewidth\":2},\"yaxis\":{\"gridcolor\":\"white\",\"linecolor\":\"white\",\"ticks\":\"\",\"title\":{\"standoff\":15},\"zerolinecolor\":\"white\",\"automargin\":true,\"zerolinewidth\":2},\"scene\":{\"xaxis\":{\"backgroundcolor\":\"#E5ECF6\",\"gridcolor\":\"white\",\"linecolor\":\"white\",\"showbackground\":true,\"ticks\":\"\",\"zerolinecolor\":\"white\",\"gridwidth\":2},\"yaxis\":{\"backgroundcolor\":\"#E5ECF6\",\"gridcolor\":\"white\",\"linecolor\":\"white\",\"showbackground\":true,\"ticks\":\"\",\"zerolinecolor\":\"white\",\"gridwidth\":2},\"zaxis\":{\"backgroundcolor\":\"#E5ECF6\",\"gridcolor\":\"white\",\"linecolor\":\"white\",\"showbackground\":true,\"ticks\":\"\",\"zerolinecolor\":\"white\",\"gridwidth\":2}},\"shapedefaults\":{\"line\":{\"color\":\"#2a3f5f\"}},\"annotationdefaults\":{\"arrowcolor\":\"#2a3f5f\",\"arrowhead\":0,\"arrowwidth\":1},\"geo\":{\"bgcolor\":\"white\",\"landcolor\":\"#E5ECF6\",\"subunitcolor\":\"white\",\"showland\":true,\"showlakes\":true,\"lakecolor\":\"white\"},\"title\":{\"x\":0.05},\"mapbox\":{\"style\":\"light\"}}},\"xaxis\":{\"anchor\":\"y\",\"domain\":[0.0,0.94],\"title\":{\"text\":\"\\u0412\\u0440\\u0435\\u043c\\u044f\"}},\"yaxis\":{\"anchor\":\"x\",\"domain\":[0.0,1.0],\"title\":{\"text\":\"\\u0427\\u0438\\u0441\\u043b\\u043e \\u043f\\u043e\\u043b\\u044c\\u0437\\u043e\\u0432\\u0430\\u0442\\u0435\\u043b\\u0435\\u0439\"}},\"yaxis2\":{\"anchor\":\"x\",\"overlaying\":\"y\",\"side\":\"right\"},\"legend\":{\"orientation\":\"h\",\"x\":0.5,\"xanchor\":\"center\"},\"margin\":{\"l\":5,\"r\":5,\"t\":35,\"b\":5},\"title\":{\"text\":\"\\u041a\\u043e\\u043d\\u0432\\u0435\\u0440\\u0441\\u0438\\u044f \\u043f\\u043e\\u043b\\u044c\\u0437\\u043e\\u0432\\u0430\\u0442\\u0435\\u043b\\u0435\\u0439 \\u043f\\u043e \\u043d\\u0435\\u0434\\u0435\\u043b\\u044f\\u043c\"}},                        {\"responsive\": true}                    ).then(function(){\n",
       "                            \n",
       "var gd = document.getElementById('119866e0-2998-4e1e-b23b-c003b8fd08f9');\n",
       "var x = new MutationObserver(function (mutations, observer) {{\n",
       "        var display = window.getComputedStyle(gd).display;\n",
       "        if (!display || display === 'none') {{\n",
       "            console.log([gd, 'removed!']);\n",
       "            Plotly.purge(gd);\n",
       "            observer.disconnect();\n",
       "        }}\n",
       "}});\n",
       "\n",
       "// Listen for the removal of the full notebook cells\n",
       "var notebookContainer = gd.closest('#notebook-container');\n",
       "if (notebookContainer) {{\n",
       "    x.observe(notebookContainer, {childList: true});\n",
       "}}\n",
       "\n",
       "// Listen for the clearing of the current output cell\n",
       "var outputEl = gd.closest('.output');\n",
       "if (outputEl) {{\n",
       "    x.observe(outputEl, {childList: true});\n",
       "}}\n",
       "\n",
       "                        })                };                });            </script>        </div>"
      ]
     },
     "metadata": {},
     "output_type": "display_data"
    }
   ],
   "source": [
    "#Строим график конверсии по неделям\n",
    "fig = go.Figure()\n",
    "fig = make_subplots(specs=[[{\"secondary_y\": True}]])\n",
    "fig.add_trace(go.Scatter(x=by_week['week'], y=by_week['visitors'],mode='lines+markers', name='посетили сайт'),secondary_y=False)\n",
    "fig.add_trace(go.Scatter(x=by_week['week'], y=by_week['accounts'], mode='lines+markers', name='зарегистрировались'),secondary_y=False)\n",
    "fig.add_trace(go.Scatter(x=by_week['week'], y=by_week['apps'],mode='lines+markers', name='подали заявки'),secondary_y=False)\n",
    "fig.add_trace(go.Scatter(x=by_week['week'], y=by_week['gamers'],mode='lines+markers', name='пришли на игру'),secondary_y=False)\n",
    "fig.add_trace(go.Scatter(x=by_week['week'], y=by_week['vis-acc'],mode='lines+markers', name='conv_1'),secondary_y=True)\n",
    "fig.add_trace(go.Scatter(x=by_week['week'], y=by_week['acc-app'],mode='lines+markers', name='conv_2'),secondary_y=True)\n",
    "fig.add_trace(go.Scatter(x=by_week['week'], y=by_week['app-gam'],mode='lines+markers', name='conv_3'),secondary_y=True)\n",
    "\n",
    "fig.update_layout(legend_orientation = \"h\",\n",
    "                  legend=dict(x=.5, xanchor=\"center\"),\n",
    "                  title=\"Конверсия пользователей по неделям\",\n",
    "                  xaxis_title=\"Время\",\n",
    "                  yaxis_title=\"Число пользователей\",\n",
    "                  margin=dict(l=5, r=5, t=35, b=5))\n",
    "fig.show()"
   ]
  },
  {
   "cell_type": "markdown",
   "id": "3fba4d0b",
   "metadata": {},
   "source": [
    "### Выводы:\n",
    "1. Большинство (около 75%) посетивших сайт пользователей не зарегистрировались на нем, что может быть вызвано нежеланием предоставлять какую-то информацию компании, сложностями заполнения формы регистрации и пр. Возможно, стоит вообще убрать этот шаг или совместить его со следующим для упрощения пользовательского пути. \n",
    "\n",
    "2. Немногие зарегистрировавшиеся пользователи подали заявку на игру (примерно 70% от зарегистрированных не доходят до заявки). Для увеличения количества отправленных заявок следует сделать форму более простой и интуитивно понятной для пользователей + регулярно проверять ее (но здесь все зависит от сайта, возможно, некоторые пользователи просто заинтересовались информацией на сайте, но не были заинтересованы в игре).\n",
    "\n",
    "3. Конверсия сильно падает на этапе приезда на игру. Возможно, стоит выбрать более удобные локации, до которых легко добраться с помощью общественного транспорта или пересмотреть расписание игр."
   ]
  },
  {
   "cell_type": "code",
   "execution_count": null,
   "id": "c3b6d6dd",
   "metadata": {},
   "outputs": [],
   "source": []
  }
 ],
 "metadata": {
  "kernelspec": {
   "display_name": "Python 3 (ipykernel)",
   "language": "python",
   "name": "python3"
  },
  "language_info": {
   "codemirror_mode": {
    "name": "ipython",
    "version": 3
   },
   "file_extension": ".py",
   "mimetype": "text/x-python",
   "name": "python",
   "nbconvert_exporter": "python",
   "pygments_lexer": "ipython3",
   "version": "3.11.3"
  }
 },
 "nbformat": 4,
 "nbformat_minor": 5
}
